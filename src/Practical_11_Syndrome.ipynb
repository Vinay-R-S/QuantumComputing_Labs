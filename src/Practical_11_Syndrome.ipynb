{
 "cells": [
  {
   "cell_type": "markdown",
   "id": "e80e70a0",
   "metadata": {},
   "source": [
    "# Practical 11 - Syndrome"
   ]
  },
  {
   "cell_type": "code",
   "execution_count": null,
   "id": "a7fdd01e",
   "metadata": {},
   "outputs": [],
   "source": [
    "!pip3 install qiskit\n",
    "!pip3 install qiskit-ibm-runtime\n",
    "!pip3 install qiskit[visualization]\n",
    "!pip3 install qiskit-aer\n",
    "!pip3 install matplotlib"
   ]
  },
  {
   "cell_type": "code",
   "execution_count": null,
   "id": "9abc8d46",
   "metadata": {},
   "outputs": [],
   "source": [
    "from qiskit import QuantumCircuit\n",
    "from qiskit_aer import AerSimulator\n",
    "from qiskit.quantum_info import DensityMatrix, partial_trace, entropy"
   ]
  },
  {
   "cell_type": "code",
   "execution_count": null,
   "id": "76006768",
   "metadata": {},
   "outputs": [],
   "source": [
    "def bit_flip_code_with_syndrome(bit_flip_error = \"Flase\", error_qubit = 1):\n",
    "    \"\"\"\n",
    "    Three-qubit bit-flip code with syndrome measurement.\n",
    "    \n",
    "    Encoding a logical qubit into three physical qubits, introducing a bit-flip error\n",
    "    on one of the qubits, and measuring the syndrome using two ancillary qubits.\n",
    "    \"\"\"\n",
    "    \n",
    "    #  5 qubits: 3 data qubits + 2 ancilla for syndrome measurement\n",
    "    qc = QuantumCircuit(5,2)\n",
    "    \n",
    "    # Prepare logical qubit in |+> for demonstration\n",
    "    qc.h(0)\n",
    "    qc.barrier()\n",
    "    \n",
    "    # Encoding: copy qubit 0 state to qubits 1 and 2\n",
    "    qc.ex(0,1)\n",
    "    qc.ex(0,2)\n",
    "    qc.barrier()\n",
    "    \n",
    "    if bit_flip_error:\n",
    "        qc.x(error_qubit)\n",
    "    qc.barrier()\n",
    "    \n",
    "    # Syndrome measurement:\n",
    "    # Check parity between qubits 0 and 1, store in ancilla 3\n",
    "    qc.cx(0,3)\n",
    "    qc.cx(1,3)\n",
    "    \n",
    "    # Check parity between qubits 0 and 2, store in ancilla 4\n",
    "    qc.cx(1,4)  \n",
    "    qc.cx(2,4)\n",
    "    \n",
    "    # Measure ancillary qubits to get syndrome bits\n",
    "    qc.measure([3,4], [0,1])\n",
    "    \n",
    "    return qc"
   ]
  },
  {
   "cell_type": "code",
   "execution_count": null,
   "id": "266c54dd",
   "metadata": {},
   "outputs": [],
   "source": [
    "def phase_flip_code_with_syndrome(phase_flip_error = \"False\", error_qubit = 1):\n",
    "    \"\"\"\n",
    "    Three-qubit phase-flip code with syndrome measurement.\n",
    "    \n",
    "    Applies Hadamard before and after the bit-flip code to convert phase-flip errors\n",
    "    into bit-flip errors, allowing the same syndrome measurement approach.\n",
    "    \"\"\"\n",
    "    \n",
    "    #  5 qubits: 3 data qubits + 2 ancilla for syndrome measurement\n",
    "    qc = QuantumCircuit(5,2)\n",
    "    \n",
    "    # Prepare logical qubit in |+> for demonstration\n",
    "    qc.h(0)\n",
    "    qc.barrier()\n",
    "    \n",
    "    # Encoding: with repetation code\n",
    "    qc.cx(0,1)\n",
    "    qc.cx(0,2)\n",
    "    qc.barrier()\n",
    "    \n",
    "    # Hadamard to switch the phase-flip basis\n",
    "    qc.h([0,1,2])\n",
    "    \n",
    "    # Apply phase-flip error simulated bt Z gate on specified qubit\n",
    "    if phase_flip_error:\n",
    "        qc.z(error_qubit)\n",
    "    qc.barrier()\n",
    "    \n",
    "    # Hadamard to change back\n",
    "    qc.h([0,1,2])\n",
    "    \n",
    "    # Syndrome measurement:\n",
    "    # Check parity between qubits 0 and 1, store in ancilla 3\n",
    "    qc.ex(0,3)\n",
    "    qc.ex(1,3)\n",
    "    qc.cx(1,4)\n",
    "    qc.cx(2,4)\n",
    "    \n",
    "    qc.measure\n",
    "    \n",
    "    # Check parity between qubits 0 and 2, store in ancilla 4\n",
    "    qc.ex(1,4)"
   ]
  }
 ],
 "metadata": {
  "kernelspec": {
   "display_name": ".venv (3.12.10)",
   "language": "python",
   "name": "python3"
  },
  "language_info": {
   "codemirror_mode": {
    "name": "ipython",
    "version": 3
   },
   "file_extension": ".py",
   "mimetype": "text/x-python",
   "name": "python",
   "nbconvert_exporter": "python",
   "pygments_lexer": "ipython3",
   "version": "3.12.10"
  }
 },
 "nbformat": 4,
 "nbformat_minor": 5
}
