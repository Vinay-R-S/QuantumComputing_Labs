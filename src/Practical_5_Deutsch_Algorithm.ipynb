{
 "cells": [
  {
   "cell_type": "markdown",
   "id": "b8217694",
   "metadata": {},
   "source": [
    "## Pratical 5 - Desutsch Algorithm"
   ]
  },
  {
   "cell_type": "code",
   "execution_count": 1,
   "id": "f917ed41",
   "metadata": {},
   "outputs": [
    {
     "name": "stdout",
     "output_type": "stream",
     "text": [
      "Requirement already satisfied: qiskit in c:\\users\\vinay\\appdata\\local\\programs\\python\\python312\\lib\\site-packages (2.1.1)\n",
      "Requirement already satisfied: rustworkx>=0.15.0 in c:\\users\\vinay\\appdata\\local\\programs\\python\\python312\\lib\\site-packages (from qiskit) (0.16.0)\n",
      "Requirement already satisfied: numpy<3,>=1.17 in c:\\users\\vinay\\appdata\\local\\programs\\python\\python312\\lib\\site-packages (from qiskit) (2.3.2)\n",
      "Requirement already satisfied: scipy>=1.5 in c:\\users\\vinay\\appdata\\local\\programs\\python\\python312\\lib\\site-packages (from qiskit) (1.16.1)\n",
      "Requirement already satisfied: dill>=0.3 in c:\\users\\vinay\\appdata\\local\\programs\\python\\python312\\lib\\site-packages (from qiskit) (0.4.0)\n",
      "Requirement already satisfied: stevedore>=3.0.0 in c:\\users\\vinay\\appdata\\local\\programs\\python\\python312\\lib\\site-packages (from qiskit) (5.4.1)\n",
      "Requirement already satisfied: typing-extensions in c:\\users\\vinay\\appdata\\local\\programs\\python\\python312\\lib\\site-packages (from qiskit) (4.14.1)\n",
      "Requirement already satisfied: pbr>=2.0.0 in c:\\users\\vinay\\appdata\\local\\programs\\python\\python312\\lib\\site-packages (from stevedore>=3.0.0->qiskit) (6.1.1)\n",
      "Requirement already satisfied: setuptools in c:\\users\\vinay\\appdata\\local\\programs\\python\\python312\\lib\\site-packages (from pbr>=2.0.0->stevedore>=3.0.0->qiskit) (80.9.0)\n",
      "Requirement already satisfied: qiskit_aer in c:\\users\\vinay\\appdata\\local\\programs\\python\\python312\\lib\\site-packages (0.17.2)\n",
      "Requirement already satisfied: qiskit>=1.1.0 in c:\\users\\vinay\\appdata\\local\\programs\\python\\python312\\lib\\site-packages (from qiskit_aer) (2.1.1)\n",
      "Requirement already satisfied: numpy>=1.16.3 in c:\\users\\vinay\\appdata\\local\\programs\\python\\python312\\lib\\site-packages (from qiskit_aer) (2.3.2)\n",
      "Requirement already satisfied: scipy>=1.0 in c:\\users\\vinay\\appdata\\local\\programs\\python\\python312\\lib\\site-packages (from qiskit_aer) (1.16.1)\n",
      "Requirement already satisfied: psutil>=5 in c:\\users\\vinay\\appdata\\roaming\\python\\python312\\site-packages (from qiskit_aer) (6.1.1)\n",
      "Requirement already satisfied: python-dateutil>=2.8.0 in c:\\users\\vinay\\appdata\\roaming\\python\\python312\\site-packages (from qiskit_aer) (2.9.0.post0)\n",
      "Requirement already satisfied: six>=1.5 in c:\\users\\vinay\\appdata\\roaming\\python\\python312\\site-packages (from python-dateutil>=2.8.0->qiskit_aer) (1.17.0)\n",
      "Requirement already satisfied: rustworkx>=0.15.0 in c:\\users\\vinay\\appdata\\local\\programs\\python\\python312\\lib\\site-packages (from qiskit>=1.1.0->qiskit_aer) (0.16.0)\n",
      "Requirement already satisfied: dill>=0.3 in c:\\users\\vinay\\appdata\\local\\programs\\python\\python312\\lib\\site-packages (from qiskit>=1.1.0->qiskit_aer) (0.4.0)\n",
      "Requirement already satisfied: stevedore>=3.0.0 in c:\\users\\vinay\\appdata\\local\\programs\\python\\python312\\lib\\site-packages (from qiskit>=1.1.0->qiskit_aer) (5.4.1)\n",
      "Requirement already satisfied: typing-extensions in c:\\users\\vinay\\appdata\\local\\programs\\python\\python312\\lib\\site-packages (from qiskit>=1.1.0->qiskit_aer) (4.14.1)\n",
      "Requirement already satisfied: pbr>=2.0.0 in c:\\users\\vinay\\appdata\\local\\programs\\python\\python312\\lib\\site-packages (from stevedore>=3.0.0->qiskit>=1.1.0->qiskit_aer) (6.1.1)\n",
      "Requirement already satisfied: setuptools in c:\\users\\vinay\\appdata\\local\\programs\\python\\python312\\lib\\site-packages (from pbr>=2.0.0->stevedore>=3.0.0->qiskit>=1.1.0->qiskit_aer) (80.9.0)\n",
      "Requirement already satisfied: qiskit[visualization] in c:\\users\\vinay\\appdata\\local\\programs\\python\\python312\\lib\\site-packages (2.1.1)\n",
      "Requirement already satisfied: rustworkx>=0.15.0 in c:\\users\\vinay\\appdata\\local\\programs\\python\\python312\\lib\\site-packages (from qiskit[visualization]) (0.16.0)\n",
      "Requirement already satisfied: numpy<3,>=1.17 in c:\\users\\vinay\\appdata\\local\\programs\\python\\python312\\lib\\site-packages (from qiskit[visualization]) (2.3.2)\n",
      "Requirement already satisfied: scipy>=1.5 in c:\\users\\vinay\\appdata\\local\\programs\\python\\python312\\lib\\site-packages (from qiskit[visualization]) (1.16.1)\n",
      "Requirement already satisfied: dill>=0.3 in c:\\users\\vinay\\appdata\\local\\programs\\python\\python312\\lib\\site-packages (from qiskit[visualization]) (0.4.0)\n",
      "Requirement already satisfied: stevedore>=3.0.0 in c:\\users\\vinay\\appdata\\local\\programs\\python\\python312\\lib\\site-packages (from qiskit[visualization]) (5.4.1)\n",
      "Requirement already satisfied: typing-extensions in c:\\users\\vinay\\appdata\\local\\programs\\python\\python312\\lib\\site-packages (from qiskit[visualization]) (4.14.1)\n",
      "Requirement already satisfied: matplotlib>=3.3 in c:\\users\\vinay\\appdata\\local\\programs\\python\\python312\\lib\\site-packages (from qiskit[visualization]) (3.10.5)\n",
      "Requirement already satisfied: pydot in c:\\users\\vinay\\appdata\\local\\programs\\python\\python312\\lib\\site-packages (from qiskit[visualization]) (4.0.1)\n",
      "Requirement already satisfied: Pillow>=4.2.1 in c:\\users\\vinay\\appdata\\local\\programs\\python\\python312\\lib\\site-packages (from qiskit[visualization]) (11.3.0)\n",
      "Requirement already satisfied: pylatexenc>=1.4 in c:\\users\\vinay\\appdata\\local\\programs\\python\\python312\\lib\\site-packages (from qiskit[visualization]) (2.10)\n",
      "Requirement already satisfied: seaborn>=0.9.0 in c:\\users\\vinay\\appdata\\local\\programs\\python\\python312\\lib\\site-packages (from qiskit[visualization]) (0.13.2)\n",
      "Requirement already satisfied: sympy>=1.3 in c:\\users\\vinay\\appdata\\local\\programs\\python\\python312\\lib\\site-packages (from qiskit[visualization]) (1.14.0)\n",
      "Requirement already satisfied: contourpy>=1.0.1 in c:\\users\\vinay\\appdata\\local\\programs\\python\\python312\\lib\\site-packages (from matplotlib>=3.3->qiskit[visualization]) (1.3.3)\n",
      "Requirement already satisfied: cycler>=0.10 in c:\\users\\vinay\\appdata\\local\\programs\\python\\python312\\lib\\site-packages (from matplotlib>=3.3->qiskit[visualization]) (0.12.1)\n",
      "Requirement already satisfied: fonttools>=4.22.0 in c:\\users\\vinay\\appdata\\local\\programs\\python\\python312\\lib\\site-packages (from matplotlib>=3.3->qiskit[visualization]) (4.59.0)\n",
      "Requirement already satisfied: kiwisolver>=1.3.1 in c:\\users\\vinay\\appdata\\local\\programs\\python\\python312\\lib\\site-packages (from matplotlib>=3.3->qiskit[visualization]) (1.4.8)\n",
      "Requirement already satisfied: packaging>=20.0 in c:\\users\\vinay\\appdata\\local\\programs\\python\\python312\\lib\\site-packages (from matplotlib>=3.3->qiskit[visualization]) (23.2)\n",
      "Requirement already satisfied: pyparsing>=2.3.1 in c:\\users\\vinay\\appdata\\local\\programs\\python\\python312\\lib\\site-packages (from matplotlib>=3.3->qiskit[visualization]) (3.2.3)\n",
      "Requirement already satisfied: python-dateutil>=2.7 in c:\\users\\vinay\\appdata\\roaming\\python\\python312\\site-packages (from matplotlib>=3.3->qiskit[visualization]) (2.9.0.post0)\n",
      "Requirement already satisfied: six>=1.5 in c:\\users\\vinay\\appdata\\roaming\\python\\python312\\site-packages (from python-dateutil>=2.7->matplotlib>=3.3->qiskit[visualization]) (1.17.0)\n",
      "Requirement already satisfied: pandas>=1.2 in c:\\users\\vinay\\appdata\\local\\programs\\python\\python312\\lib\\site-packages (from seaborn>=0.9.0->qiskit[visualization]) (2.3.1)\n",
      "Requirement already satisfied: pytz>=2020.1 in c:\\users\\vinay\\appdata\\local\\programs\\python\\python312\\lib\\site-packages (from pandas>=1.2->seaborn>=0.9.0->qiskit[visualization]) (2025.2)\n",
      "Requirement already satisfied: tzdata>=2022.7 in c:\\users\\vinay\\appdata\\local\\programs\\python\\python312\\lib\\site-packages (from pandas>=1.2->seaborn>=0.9.0->qiskit[visualization]) (2025.2)\n",
      "Requirement already satisfied: pbr>=2.0.0 in c:\\users\\vinay\\appdata\\local\\programs\\python\\python312\\lib\\site-packages (from stevedore>=3.0.0->qiskit[visualization]) (6.1.1)\n",
      "Requirement already satisfied: setuptools in c:\\users\\vinay\\appdata\\local\\programs\\python\\python312\\lib\\site-packages (from pbr>=2.0.0->stevedore>=3.0.0->qiskit[visualization]) (80.9.0)\n",
      "Requirement already satisfied: mpmath<1.4,>=1.1.0 in c:\\users\\vinay\\appdata\\local\\programs\\python\\python312\\lib\\site-packages (from sympy>=1.3->qiskit[visualization]) (1.3.0)\n"
     ]
    }
   ],
   "source": [
    "!pip3 install qiskit\n",
    "!pip3 install qiskit_aer\n",
    "!pip3 install qiskit[visualization]"
   ]
  },
  {
   "cell_type": "code",
   "execution_count": 2,
   "id": "ac854c6d",
   "metadata": {},
   "outputs": [],
   "source": [
    "import matplotlib.pyplot as plt\n",
    "%matplotlib inline\n",
    "from qiskit import QuantumCircuit\n",
    "from qiskit_aer import AerSimulator\n",
    "from qiskit.visualization import plot_histogram"
   ]
  },
  {
   "cell_type": "code",
   "execution_count": 3,
   "id": "bc950b84",
   "metadata": {},
   "outputs": [],
   "source": [
    "def constant_oracle_0():\n",
    "    \"\"\"Oracle for f(x) = 0 (constant) - identity\"\"\"\n",
    "    oracle = QuantumCircuit(2)\n",
    "    return oracle"
   ]
  },
  {
   "cell_type": "code",
   "execution_count": 4,
   "id": "97612f35",
   "metadata": {},
   "outputs": [],
   "source": [
    "def constant_oracle_1():\n",
    "    \"\"\"Oracle for f(x) = 1 (constant) - flips the output qubit\"\"\"\n",
    "    oracle = QuantumCircuit(2)\n",
    "    oracle.x(1)\n",
    "    return oracle"
   ]
  },
  {
   "cell_type": "code",
   "execution_count": 5,
   "id": "60573655",
   "metadata": {},
   "outputs": [],
   "source": [
    "def balanced_oracle_x():\n",
    "    \"\"\"Oracle for f(x) = x (balanced) - CNOT gate\"\"\"\n",
    "    oracle = QuantumCircuit(2)\n",
    "    oracle.cx(0, 1)\n",
    "    return oracle"
   ]
  },
  {
   "cell_type": "code",
   "execution_count": 6,
   "id": "1defc754",
   "metadata": {},
   "outputs": [],
   "source": [
    "def deutsch_algorithm(oracle):\n",
    "    # Create a 2-qubit, 1-classical-bit circuit\n",
    "    qc = QuantumCircuit(2, 1)\n",
    "    # Initialize second qubit to |1>\n",
    "    qc.x(1)\n",
    "    # Apply Hadamard on both qubits\n",
    "    qc.h([0, 1])\n",
    "    qc.barrier() # add a barrier for readability\n",
    "    # Apply the oracle\n",
    "    qc.compose(oracle, inplace=True) # append the oracle circuit to qc\n",
    "    qc.barrier()\n",
    "    # Apply Hadamard on the first qubit\n",
    "    qc.h(0)\n",
    "    # Measure the first qubit\n",
    "    qc.measure(0, 0)\n",
    "    return qc"
   ]
  },
  {
   "cell_type": "code",
   "execution_count": 7,
   "id": "9dbedc2d",
   "metadata": {},
   "outputs": [],
   "source": [
    "# Select oracle to test; change to test different oracles\n",
    "oracle = balanced_oracle_x()"
   ]
  },
  {
   "cell_type": "code",
   "execution_count": 8,
   "id": "c35bbc76",
   "metadata": {},
   "outputs": [
    {
     "name": "stdout",
     "output_type": "stream",
     "text": [
      "     ┌───┐      ░       ░ ┌───┐┌─┐\n",
      "q_0: ┤ H ├──────░───■───░─┤ H ├┤M├\n",
      "     ├───┤┌───┐ ░ ┌─┴─┐ ░ └───┘└╥┘\n",
      "q_1: ┤ X ├┤ H ├─░─┤ X ├─░───────╫─\n",
      "     └───┘└───┘ ░ └───┘ ░       ║ \n",
      "c: 1/═══════════════════════════╩═\n",
      "                                0 \n"
     ]
    }
   ],
   "source": [
    "# Create the Deutsch algorithm circuit with the chosen oracle\n",
    "circuit = deutsch_algorithm(oracle)\n",
    "print(circuit.draw())"
   ]
  },
  {
   "cell_type": "code",
   "execution_count": 9,
   "id": "912c9353",
   "metadata": {},
   "outputs": [],
   "source": [
    "# Use Qiskit Aer simulator\n",
    "simulator = AerSimulator()"
   ]
  },
  {
   "cell_type": "code",
   "execution_count": 10,
   "id": "a586ec6b",
   "metadata": {},
   "outputs": [
    {
     "name": "stdout",
     "output_type": "stream",
     "text": [
      "Measurement results: {'1': 100}\n"
     ]
    }
   ],
   "source": [
    "# Execute the circuit on the simulator with 100 shots\n",
    "result = simulator.run(circuit, shots=100).result()\n",
    "counts = result.get_counts()\n",
    "\n",
    "print(\"Measurement results:\", counts)"
   ]
  },
  {
   "cell_type": "code",
   "execution_count": 11,
   "id": "a990d7ee",
   "metadata": {},
   "outputs": [
    {
     "data": {
      "image/png": "[encoded data removed]",
      "text/plain": [
       "<Figure size 640x480 with 1 Axes>"
      ]
     },
     "execution_count": 11,
     "metadata": {},
     "output_type": "execute_result"
    },
    {
     "data": {
      "image/png": "[encoded data removed]",
      "text/plain": [
       "<Figure size 640x480 with 1 Axes>"
      ]
     },
     "metadata": {},
     "output_type": "display_data"
    }
   ],
   "source": [
    "# Plot the results\n",
    "hist_fig = plot_histogram(counts)\n",
    "hist_fig"
   ]
  }
 ],
 "metadata": {
  "kernelspec": {
   "display_name": "Python 3",
   "language": "python",
   "name": "python3"
  },
  "language_info": {
   "codemirror_mode": {
    "name": "ipython",
    "version": 3
   },
   "file_extension": ".py",
   "mimetype": "text/x-python",
   "name": "python",
   "nbconvert_exporter": "python",
   "pygments_lexer": "ipython3",
   "version": "3.12.10"
  }
 },
 "nbformat": 4,
 "nbformat_minor": 5
}
