{
 "cells": [
  {
   "cell_type": "code",
   "execution_count": null,
   "id": "f917ed41",
   "metadata": {},
   "outputs": [],
   "source": [
    "!pip3 install qiskit\n",
    "!pip3 install qiskit_aer\n",
    "!pip3 install qiskit[visualization]"
   ]
  },
  {
   "cell_type": "code",
   "execution_count": 2,
   "id": "ac854c6d",
   "metadata": {},
   "outputs": [],
   "source": [
    "import matplotlib.pyplot as plt\n",
    "%matplotlib inline\n",
    "from qiskit import QuantumCircuit\n",
    "from qiskit_aer import AerSimulator\n",
    "from qiskit.visualization import plot_histogram"
   ]
  },
  {
   "cell_type": "code",
   "execution_count": 3,
   "id": "bc950b84",
   "metadata": {},
   "outputs": [],
   "source": [
    "def constant_oracle_0():\n",
    "    \"\"\"Oracle for f(x) = 0 (constant) - identity\"\"\"\n",
    "    oracle = QuantumCircuit(2)\n",
    "    return oracle"
   ]
  },
  {
   "cell_type": "code",
   "execution_count": null,
   "id": "97612f35",
   "metadata": {},
   "outputs": [],
   "source": [
    "def constant_oracle_1():\n",
    "    \"\"\"Oracle for f(x) = 1 (constant) - flips the output qubit\"\"\"\n",
    "    oracle = QuantumCircuit(2)\n",
    "    oracle.x(1)\n",
    "    return oracle"
   ]
  },
  {
   "cell_type": "code",
   "execution_count": null,
   "id": "60573655",
   "metadata": {},
   "outputs": [],
   "source": [
    "def balanced_oracle_x():\n",
    "    \"\"\"Oracle for f(x) = x (balanced) - CNOT gate\"\"\"\n",
    "    oracle = QuantumCircuit(2)\n",
    "    oracle.cx(0, 1)\n",
    "    return oracle"
   ]
  },
  {
   "cell_type": "code",
   "execution_count": null,
   "id": "1defc754",
   "metadata": {},
   "outputs": [],
   "source": [
    "def deutsch_algorithm(oracle):\n",
    "    # Create a 2-qubit, 1-classical-bit circuit\n",
    "    qc = QuantumCircuit(2, 1)\n",
    "    # Initialize second qubit to |1>\n",
    "    qc.x(1)\n",
    "    # Apply Hadamard on both qubits\n",
    "    qc.h([0, 1])\n",
    "    qc.barrier() # add a barrier for readability\n",
    "    # Apply the oracle\n",
    "    qc.compose(oracle, inplace=True) # append the oracle circuit to qc\n",
    "    qc.barrier()\n",
    "    # Apply Hadamard on the first qubit\n",
    "    qc.h(0)\n",
    "    # Measure the first qubit\n",
    "    qc.measure(0, 0)\n",
    "    return qc"
   ]
  },
  {
   "cell_type": "code",
   "execution_count": null,
   "id": "9dbedc2d",
   "metadata": {},
   "outputs": [],
   "source": [
    "# Select oracle to test; change to test different oracles\n",
    "oracle = balanced_oracle_x()"
   ]
  },
  {
   "cell_type": "code",
   "execution_count": null,
   "id": "c35bbc76",
   "metadata": {},
   "outputs": [],
   "source": [
    "# Create the Deutsch algorithm circuit with the chosen oracle\n",
    "circuit = deutsch_algorithm(oracle)\n",
    "print(circuit.draw())"
   ]
  },
  {
   "cell_type": "code",
   "execution_count": null,
   "id": "912c9353",
   "metadata": {},
   "outputs": [],
   "source": [
    "# Use Qiskit Aer simulator\n",
    "simulator = AerSimulator()"
   ]
  },
  {
   "cell_type": "code",
   "execution_count": null,
   "id": "a586ec6b",
   "metadata": {},
   "outputs": [],
   "source": [
    "# Execute the circuit on the simulator with 100 shots\n",
    "result = simulator.run(circuit, shots=100).result()\n",
    "counts = result.get_counts()\n",
    "\n",
    "print(\"Measurement results:\", counts)"
   ]
  },
  {
   "cell_type": "code",
   "execution_count": null,
   "id": "a990d7ee",
   "metadata": {},
   "outputs": [],
   "source": [
    "# Plot the results\n",
    "hist_fig = plot_histogram(counts)\n",
    "hist_fig"
   ]
  }
 ],
 "metadata": {
  "kernelspec": {
   "display_name": ".venv (3.12.10)",
   "language": "python",
   "name": "python3"
  },
  "language_info": {
   "codemirror_mode": {
    "name": "ipython",
    "version": 3
   },
   "file_extension": ".py",
   "mimetype": "text/x-python",
   "name": "python",
   "nbconvert_exporter": "python",
   "pygments_lexer": "ipython3",
   "version": "3.12.10"
  }
 },
 "nbformat": 4,
 "nbformat_minor": 5
}
