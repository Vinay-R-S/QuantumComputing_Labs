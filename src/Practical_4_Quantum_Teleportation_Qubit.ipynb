{
 "cells": [
  {
   "cell_type": "markdown",
   "id": "2ad78008",
   "metadata": {},
   "source": [
    "## Practical 4 - Quantum Teleportation"
   ]
  },
  {
   "cell_type": "code",
   "execution_count": null,
   "id": "3f3a36f7",
   "metadata": {},
   "outputs": [],
   "source": [
    "!pip3 install qiskit\n",
    "!pip3 install qiskit_aer\n",
    "!pip3 install qiskit[quantum_info]\n",
    "!pip3 install qiskit[visualization]"
   ]
  },
  {
   "cell_type": "code",
   "execution_count": 2,
   "id": "e2d0477f",
   "metadata": {},
   "outputs": [],
   "source": [
    "from qiskit import QuantumCircuit, transpile\n",
    "from qiskit_aer import AerSimulator\n",
    "from qiskit.quantum_info import state_fidelity, partial_trace, Statevector\n",
    "from qiskit.visualization import plot_histogram"
   ]
  },
  {
   "cell_type": "code",
   "execution_count": 3,
   "id": "532c56d6",
   "metadata": {},
   "outputs": [],
   "source": [
    "# Step 1: Prepare the initial state to teleport on qubit 0\n",
    "initial_qc = QuantumCircuit(1)\n",
    "initial_qc.h(0)\n",
    "initial_qc.t(0)\n",
    "initial_state = Statevector.from_instruction(initial_qc)"
   ]
  },
  {
   "cell_type": "code",
   "execution_count": 4,
   "id": "b0d0d70f",
   "metadata": {},
   "outputs": [],
   "source": [
    "# Step 2: Create quantum circuit with 3 qubits and 3 classical bits\n",
    "qc = QuantumCircuit(3, 3)"
   ]
  },
  {
   "cell_type": "code",
   "execution_count": 5,
   "id": "b63ec559",
   "metadata": {},
   "outputs": [
    {
     "data": {
      "text/plain": [
       "<qiskit.circuit.instructionset.InstructionSet at 0x22ba1aadbd0>"
      ]
     },
     "execution_count": 5,
     "metadata": {},
     "output_type": "execute_result"
    }
   ],
   "source": [
    "# Step 3: Prepare qubit 0 to be teleported (T gate)\n",
    "qc.h(0)\n",
    "qc.t(0)"
   ]
  },
  {
   "cell_type": "code",
   "execution_count": 6,
   "id": "d5da15ec",
   "metadata": {},
   "outputs": [
    {
     "data": {
      "text/plain": [
       "<qiskit.circuit.instructionset.InstructionSet at 0x22c27f9db10>"
      ]
     },
     "execution_count": 6,
     "metadata": {},
     "output_type": "execute_result"
    }
   ],
   "source": [
    "# Step 4: Create entangled Bell pair (qubits 1 & 2)\n",
    "qc.h(1)\n",
    "qc.cx(1, 2)"
   ]
  },
  {
   "cell_type": "code",
   "execution_count": 7,
   "id": "a73ef87d",
   "metadata": {},
   "outputs": [
    {
     "data": {
      "text/plain": [
       "<qiskit.circuit.instructionset.InstructionSet at 0x22ba1bf75e0>"
      ]
     },
     "execution_count": 7,
     "metadata": {},
     "output_type": "execute_result"
    }
   ],
   "source": [
    "# Step 5: Teleportation protocol\n",
    "qc.cx(0, 1)\n",
    "qc.h(0)"
   ]
  },
  {
   "cell_type": "code",
   "execution_count": 8,
   "id": "c1f3917c",
   "metadata": {},
   "outputs": [
    {
     "data": {
      "text/plain": [
       "<qiskit.circuit.instructionset.InstructionSet at 0x22bffb72b90>"
      ]
     },
     "execution_count": 8,
     "metadata": {},
     "output_type": "execute_result"
    }
   ],
   "source": [
    "# Step 6: Measure qubits 0 & 1 and store results\n",
    "qc.measure([0, 1], [0, 1])"
   ]
  },
  {
   "cell_type": "code",
   "execution_count": 9,
   "id": "f43e965c",
   "metadata": {},
   "outputs": [
    {
     "data": {
      "text/plain": [
       "<qiskit.circuit.instructionset.InstructionSet at 0x22c280c9930>"
      ]
     },
     "execution_count": 9,
     "metadata": {},
     "output_type": "execute_result"
    }
   ],
   "source": [
    "# Step 7: Conditional corrections based on measurement outcomes\n",
    "qc.cx(1, 2)\n",
    "qc.cz(0, 2)"
   ]
  },
  {
   "cell_type": "code",
   "execution_count": 10,
   "id": "5ada7b90",
   "metadata": {},
   "outputs": [
    {
     "data": {
      "text/plain": [
       "<qiskit.circuit.instructionset.InstructionSet at 0x22bffb720e0>"
      ]
     },
     "execution_count": 10,
     "metadata": {},
     "output_type": "execute_result"
    }
   ],
   "source": [
    "# Step 8: Save the statevector before measuring qubit 2\n",
    "qc.save_statevector()"
   ]
  },
  {
   "cell_type": "code",
   "execution_count": 11,
   "id": "e6de5b51",
   "metadata": {},
   "outputs": [
    {
     "data": {
      "text/plain": [
       "<qiskit.circuit.instructionset.InstructionSet at 0x22c28068790>"
      ]
     },
     "execution_count": 11,
     "metadata": {},
     "output_type": "execute_result"
    }
   ],
   "source": [
    "# Step 9: Measure the destination qubit (qubit 2)\n",
    "qc.measure(2, 2)"
   ]
  },
  {
   "cell_type": "code",
   "execution_count": 12,
   "id": "63988a23",
   "metadata": {},
   "outputs": [],
   "source": [
    "# Step 10: Remove final measurements for statevector output\n",
    "qc_no_meas = qc.remove_final_measurements(inplace=False)"
   ]
  },
  {
   "cell_type": "code",
   "execution_count": 13,
   "id": "fe441e1b",
   "metadata": {},
   "outputs": [],
   "source": [
    "# Step 11: Create AerSimulator with statevector method\n",
    "sim = AerSimulator(method='statevector')\n",
    "qc_compiled = transpile(qc_no_meas, sim)"
   ]
  },
  {
   "cell_type": "code",
   "execution_count": 14,
   "id": "05d17e04",
   "metadata": {},
   "outputs": [],
   "source": [
    "# Step 12: Run simulation and get statevector\n",
    "result = sim.run(qc_compiled).result()\n",
    "final_state = result.get_statevector()"
   ]
  },
  {
   "cell_type": "code",
   "execution_count": 15,
   "id": "ce0bbab1",
   "metadata": {},
   "outputs": [],
   "source": [
    "# Step 13: Partial trace to get qubit 2 state\n",
    "rho_out = partial_trace(final_state, [0, 1])"
   ]
  },
  {
   "cell_type": "code",
   "execution_count": 16,
   "id": "7cd9c6a4",
   "metadata": {},
   "outputs": [
    {
     "name": "stdout",
     "output_type": "stream",
     "text": [
      "Fidelity between input and teleported qubit: 1.0\n"
     ]
    }
   ],
   "source": [
    "# Step 14: Calculate fidelity\n",
    "fidelity = state_fidelity(initial_state, rho_out)\n",
    "print(f\"Fidelity between input and teleported qubit: {fidelity:.1f}\")"
   ]
  }
 ],
 "metadata": {
  "kernelspec": {
   "display_name": ".venv (3.12.10)",
   "language": "python",
   "name": "python3"
  },
  "language_info": {
   "codemirror_mode": {
    "name": "ipython",
    "version": 3
   },
   "file_extension": ".py",
   "mimetype": "text/x-python",
   "name": "python",
   "nbconvert_exporter": "python",
   "pygments_lexer": "ipython3",
   "version": "3.12.10"
  }
 },
 "nbformat": 4,
 "nbformat_minor": 5
}
