{
 "cells": [
  {
   "cell_type": "markdown",
   "id": "2ad78008",
   "metadata": {},
   "source": [
    "## Practical 4 - Quantum Teleportation"
   ]
  },
  {
   "cell_type": "code",
   "execution_count": 1,
   "id": "3f3a36f7",
   "metadata": {},
   "outputs": [
    {
     "name": "stdout",
     "output_type": "stream",
     "text": [
      "Requirement already satisfied: qiskit in c:\\users\\vinay\\appdata\\local\\programs\\python\\python312\\lib\\site-packages (2.1.1)\n",
      "Requirement already satisfied: rustworkx>=0.15.0 in c:\\users\\vinay\\appdata\\local\\programs\\python\\python312\\lib\\site-packages (from qiskit) (0.16.0)\n",
      "Requirement already satisfied: numpy<3,>=1.17 in c:\\users\\vinay\\appdata\\local\\programs\\python\\python312\\lib\\site-packages (from qiskit) (2.3.2)\n",
      "Requirement already satisfied: scipy>=1.5 in c:\\users\\vinay\\appdata\\local\\programs\\python\\python312\\lib\\site-packages (from qiskit) (1.16.1)\n",
      "Requirement already satisfied: dill>=0.3 in c:\\users\\vinay\\appdata\\local\\programs\\python\\python312\\lib\\site-packages (from qiskit) (0.4.0)\n",
      "Requirement already satisfied: stevedore>=3.0.0 in c:\\users\\vinay\\appdata\\local\\programs\\python\\python312\\lib\\site-packages (from qiskit) (5.4.1)\n",
      "Requirement already satisfied: typing-extensions in c:\\users\\vinay\\appdata\\local\\programs\\python\\python312\\lib\\site-packages (from qiskit) (4.14.1)\n",
      "Requirement already satisfied: pbr>=2.0.0 in c:\\users\\vinay\\appdata\\local\\programs\\python\\python312\\lib\\site-packages (from stevedore>=3.0.0->qiskit) (6.1.1)\n",
      "Requirement already satisfied: setuptools in c:\\users\\vinay\\appdata\\local\\programs\\python\\python312\\lib\\site-packages (from pbr>=2.0.0->stevedore>=3.0.0->qiskit) (80.9.0)\n",
      "Requirement already satisfied: qiskit_aer in c:\\users\\vinay\\appdata\\local\\programs\\python\\python312\\lib\\site-packages (0.17.2)\n",
      "Requirement already satisfied: qiskit>=1.1.0 in c:\\users\\vinay\\appdata\\local\\programs\\python\\python312\\lib\\site-packages (from qiskit_aer) (2.1.1)\n",
      "Requirement already satisfied: numpy>=1.16.3 in c:\\users\\vinay\\appdata\\local\\programs\\python\\python312\\lib\\site-packages (from qiskit_aer) (2.3.2)\n",
      "Requirement already satisfied: scipy>=1.0 in c:\\users\\vinay\\appdata\\local\\programs\\python\\python312\\lib\\site-packages (from qiskit_aer) (1.16.1)\n",
      "Requirement already satisfied: psutil>=5 in c:\\users\\vinay\\appdata\\roaming\\python\\python312\\site-packages (from qiskit_aer) (6.1.1)\n",
      "Requirement already satisfied: python-dateutil>=2.8.0 in c:\\users\\vinay\\appdata\\roaming\\python\\python312\\site-packages (from qiskit_aer) (2.9.0.post0)\n",
      "Requirement already satisfied: six>=1.5 in c:\\users\\vinay\\appdata\\roaming\\python\\python312\\site-packages (from python-dateutil>=2.8.0->qiskit_aer) (1.17.0)\n",
      "Requirement already satisfied: rustworkx>=0.15.0 in c:\\users\\vinay\\appdata\\local\\programs\\python\\python312\\lib\\site-packages (from qiskit>=1.1.0->qiskit_aer) (0.16.0)\n",
      "Requirement already satisfied: dill>=0.3 in c:\\users\\vinay\\appdata\\local\\programs\\python\\python312\\lib\\site-packages (from qiskit>=1.1.0->qiskit_aer) (0.4.0)\n",
      "Requirement already satisfied: stevedore>=3.0.0 in c:\\users\\vinay\\appdata\\local\\programs\\python\\python312\\lib\\site-packages (from qiskit>=1.1.0->qiskit_aer) (5.4.1)\n",
      "Requirement already satisfied: typing-extensions in c:\\users\\vinay\\appdata\\local\\programs\\python\\python312\\lib\\site-packages (from qiskit>=1.1.0->qiskit_aer) (4.14.1)\n",
      "Requirement already satisfied: pbr>=2.0.0 in c:\\users\\vinay\\appdata\\local\\programs\\python\\python312\\lib\\site-packages (from stevedore>=3.0.0->qiskit>=1.1.0->qiskit_aer) (6.1.1)\n",
      "Requirement already satisfied: setuptools in c:\\users\\vinay\\appdata\\local\\programs\\python\\python312\\lib\\site-packages (from pbr>=2.0.0->stevedore>=3.0.0->qiskit>=1.1.0->qiskit_aer) (80.9.0)\n",
      "Requirement already satisfied: qiskit[quantum_info] in c:\\users\\vinay\\appdata\\local\\programs\\python\\python312\\lib\\site-packages (2.1.1)\n",
      "Requirement already satisfied: rustworkx>=0.15.0 in c:\\users\\vinay\\appdata\\local\\programs\\python\\python312\\lib\\site-packages (from qiskit[quantum_info]) (0.16.0)\n",
      "Requirement already satisfied: numpy<3,>=1.17 in c:\\users\\vinay\\appdata\\local\\programs\\python\\python312\\lib\\site-packages (from qiskit[quantum_info]) (2.3.2)\n",
      "Requirement already satisfied: scipy>=1.5 in c:\\users\\vinay\\appdata\\local\\programs\\python\\python312\\lib\\site-packages (from qiskit[quantum_info]) (1.16.1)\n",
      "Requirement already satisfied: dill>=0.3 in c:\\users\\vinay\\appdata\\local\\programs\\python\\python312\\lib\\site-packages (from qiskit[quantum_info]) (0.4.0)\n",
      "Requirement already satisfied: stevedore>=3.0.0 in c:\\users\\vinay\\appdata\\local\\programs\\python\\python312\\lib\\site-packages (from qiskit[quantum_info]) (5.4.1)\n",
      "Requirement already satisfied: typing-extensions in c:\\users\\vinay\\appdata\\local\\programs\\python\\python312\\lib\\site-packages (from qiskit[quantum_info]) (4.14.1)\n",
      "Requirement already satisfied: pbr>=2.0.0 in c:\\users\\vinay\\appdata\\local\\programs\\python\\python312\\lib\\site-packages (from stevedore>=3.0.0->qiskit[quantum_info]) (6.1.1)\n",
      "Requirement already satisfied: setuptools in c:\\users\\vinay\\appdata\\local\\programs\\python\\python312\\lib\\site-packages (from pbr>=2.0.0->stevedore>=3.0.0->qiskit[quantum_info]) (80.9.0)\n"
     ]
    },
    {
     "name": "stderr",
     "output_type": "stream",
     "text": [
      "WARNING: qiskit 2.1.1 does not provide the extra 'quantum-info'\n"
     ]
    },
    {
     "name": "stdout",
     "output_type": "stream",
     "text": [
      "Requirement already satisfied: qiskit[visualization] in c:\\users\\vinay\\appdata\\local\\programs\\python\\python312\\lib\\site-packages (2.1.1)\n",
      "Requirement already satisfied: rustworkx>=0.15.0 in c:\\users\\vinay\\appdata\\local\\programs\\python\\python312\\lib\\site-packages (from qiskit[visualization]) (0.16.0)\n",
      "Requirement already satisfied: numpy<3,>=1.17 in c:\\users\\vinay\\appdata\\local\\programs\\python\\python312\\lib\\site-packages (from qiskit[visualization]) (2.3.2)\n",
      "Requirement already satisfied: scipy>=1.5 in c:\\users\\vinay\\appdata\\local\\programs\\python\\python312\\lib\\site-packages (from qiskit[visualization]) (1.16.1)\n",
      "Requirement already satisfied: dill>=0.3 in c:\\users\\vinay\\appdata\\local\\programs\\python\\python312\\lib\\site-packages (from qiskit[visualization]) (0.4.0)\n",
      "Requirement already satisfied: stevedore>=3.0.0 in c:\\users\\vinay\\appdata\\local\\programs\\python\\python312\\lib\\site-packages (from qiskit[visualization]) (5.4.1)\n",
      "Requirement already satisfied: typing-extensions in c:\\users\\vinay\\appdata\\local\\programs\\python\\python312\\lib\\site-packages (from qiskit[visualization]) (4.14.1)\n",
      "Requirement already satisfied: matplotlib>=3.3 in c:\\users\\vinay\\appdata\\local\\programs\\python\\python312\\lib\\site-packages (from qiskit[visualization]) (3.10.5)\n",
      "Requirement already satisfied: pydot in c:\\users\\vinay\\appdata\\local\\programs\\python\\python312\\lib\\site-packages (from qiskit[visualization]) (4.0.1)\n",
      "Requirement already satisfied: Pillow>=4.2.1 in c:\\users\\vinay\\appdata\\local\\programs\\python\\python312\\lib\\site-packages (from qiskit[visualization]) (11.3.0)\n",
      "Requirement already satisfied: pylatexenc>=1.4 in c:\\users\\vinay\\appdata\\local\\programs\\python\\python312\\lib\\site-packages (from qiskit[visualization]) (2.10)\n",
      "Requirement already satisfied: seaborn>=0.9.0 in c:\\users\\vinay\\appdata\\local\\programs\\python\\python312\\lib\\site-packages (from qiskit[visualization]) (0.13.2)\n",
      "Requirement already satisfied: sympy>=1.3 in c:\\users\\vinay\\appdata\\local\\programs\\python\\python312\\lib\\site-packages (from qiskit[visualization]) (1.14.0)\n",
      "Requirement already satisfied: contourpy>=1.0.1 in c:\\users\\vinay\\appdata\\local\\programs\\python\\python312\\lib\\site-packages (from matplotlib>=3.3->qiskit[visualization]) (1.3.3)\n",
      "Requirement already satisfied: cycler>=0.10 in c:\\users\\vinay\\appdata\\local\\programs\\python\\python312\\lib\\site-packages (from matplotlib>=3.3->qiskit[visualization]) (0.12.1)\n",
      "Requirement already satisfied: fonttools>=4.22.0 in c:\\users\\vinay\\appdata\\local\\programs\\python\\python312\\lib\\site-packages (from matplotlib>=3.3->qiskit[visualization]) (4.59.0)\n",
      "Requirement already satisfied: kiwisolver>=1.3.1 in c:\\users\\vinay\\appdata\\local\\programs\\python\\python312\\lib\\site-packages (from matplotlib>=3.3->qiskit[visualization]) (1.4.8)\n",
      "Requirement already satisfied: packaging>=20.0 in c:\\users\\vinay\\appdata\\local\\programs\\python\\python312\\lib\\site-packages (from matplotlib>=3.3->qiskit[visualization]) (23.2)\n",
      "Requirement already satisfied: pyparsing>=2.3.1 in c:\\users\\vinay\\appdata\\local\\programs\\python\\python312\\lib\\site-packages (from matplotlib>=3.3->qiskit[visualization]) (3.2.3)\n",
      "Requirement already satisfied: python-dateutil>=2.7 in c:\\users\\vinay\\appdata\\roaming\\python\\python312\\site-packages (from matplotlib>=3.3->qiskit[visualization]) (2.9.0.post0)\n",
      "Requirement already satisfied: six>=1.5 in c:\\users\\vinay\\appdata\\roaming\\python\\python312\\site-packages (from python-dateutil>=2.7->matplotlib>=3.3->qiskit[visualization]) (1.17.0)\n",
      "Requirement already satisfied: pandas>=1.2 in c:\\users\\vinay\\appdata\\local\\programs\\python\\python312\\lib\\site-packages (from seaborn>=0.9.0->qiskit[visualization]) (2.3.1)\n",
      "Requirement already satisfied: pytz>=2020.1 in c:\\users\\vinay\\appdata\\local\\programs\\python\\python312\\lib\\site-packages (from pandas>=1.2->seaborn>=0.9.0->qiskit[visualization]) (2025.2)\n",
      "Requirement already satisfied: tzdata>=2022.7 in c:\\users\\vinay\\appdata\\local\\programs\\python\\python312\\lib\\site-packages (from pandas>=1.2->seaborn>=0.9.0->qiskit[visualization]) (2025.2)\n",
      "Requirement already satisfied: pbr>=2.0.0 in c:\\users\\vinay\\appdata\\local\\programs\\python\\python312\\lib\\site-packages (from stevedore>=3.0.0->qiskit[visualization]) (6.1.1)\n",
      "Requirement already satisfied: setuptools in c:\\users\\vinay\\appdata\\local\\programs\\python\\python312\\lib\\site-packages (from pbr>=2.0.0->stevedore>=3.0.0->qiskit[visualization]) (80.9.0)\n",
      "Requirement already satisfied: mpmath<1.4,>=1.1.0 in c:\\users\\vinay\\appdata\\local\\programs\\python\\python312\\lib\\site-packages (from sympy>=1.3->qiskit[visualization]) (1.3.0)\n"
     ]
    }
   ],
   "source": [
    "!pip3 install qiskit\n",
    "!pip3 install qiskit_aer\n",
    "!pip3 install qiskit[quantum_info]\n",
    "!pip3 install qiskit[visualization]"
   ]
  },
  {
   "cell_type": "code",
   "execution_count": 2,
   "id": "e2d0477f",
   "metadata": {},
   "outputs": [],
   "source": [
    "from qiskit import QuantumCircuit, transpile\n",
    "from qiskit_aer import AerSimulator\n",
    "from qiskit.quantum_info import state_fidelity, partial_trace, Statevector\n",
    "from qiskit.visualization import plot_histogram"
   ]
  },
  {
   "cell_type": "code",
   "execution_count": 3,
   "id": "532c56d6",
   "metadata": {},
   "outputs": [],
   "source": [
    "# Step 1: Prepare the initial state to teleport on qubit 0\n",
    "initial_qc = QuantumCircuit(1)\n",
    "initial_qc.h(0)\n",
    "initial_qc.t(0)\n",
    "initial_state = Statevector.from_instruction(initial_qc)"
   ]
  },
  {
   "cell_type": "code",
   "execution_count": 4,
   "id": "b0d0d70f",
   "metadata": {},
   "outputs": [],
   "source": [
    "# Step 2: Create quantum circuit with 3 qubits and 3 classical bits\n",
    "qc = QuantumCircuit(3, 3)"
   ]
  },
  {
   "cell_type": "code",
   "execution_count": 5,
   "id": "b63ec559",
   "metadata": {},
   "outputs": [
    {
     "data": {
      "text/plain": [
       "<qiskit.circuit.instructionset.InstructionSet at 0x1df0c9331c0>"
      ]
     },
     "execution_count": 5,
     "metadata": {},
     "output_type": "execute_result"
    }
   ],
   "source": [
    "# Step 3: Prepare qubit 0 to be teleported (T gate)\n",
    "qc.h(0)\n",
    "qc.t(0)"
   ]
  },
  {
   "cell_type": "code",
   "execution_count": 6,
   "id": "d5da15ec",
   "metadata": {},
   "outputs": [
    {
     "data": {
      "text/plain": [
       "<qiskit.circuit.instructionset.InstructionSet at 0x1df0c931b70>"
      ]
     },
     "execution_count": 6,
     "metadata": {},
     "output_type": "execute_result"
    }
   ],
   "source": [
    "# Step 4: Create entangled Bell pair (qubits 1 & 2)\n",
    "qc.h(1)\n",
    "qc.cx(1, 2)"
   ]
  },
  {
   "cell_type": "code",
   "execution_count": 7,
   "id": "a73ef87d",
   "metadata": {},
   "outputs": [
    {
     "data": {
      "text/plain": [
       "<qiskit.circuit.instructionset.InstructionSet at 0x1dfa6b8c640>"
      ]
     },
     "execution_count": 7,
     "metadata": {},
     "output_type": "execute_result"
    }
   ],
   "source": [
    "# Step 5: Teleportation protocol\n",
    "qc.cx(0, 1)\n",
    "qc.h(0)"
   ]
  },
  {
   "cell_type": "code",
   "execution_count": 8,
   "id": "c1f3917c",
   "metadata": {},
   "outputs": [
    {
     "data": {
      "text/plain": [
       "<qiskit.circuit.instructionset.InstructionSet at 0x1dfa6a52110>"
      ]
     },
     "execution_count": 8,
     "metadata": {},
     "output_type": "execute_result"
    }
   ],
   "source": [
    "# Step 6: Measure qubits 0 & 1 and store results\n",
    "qc.measure([0, 1], [0, 1])"
   ]
  },
  {
   "cell_type": "code",
   "execution_count": 9,
   "id": "f43e965c",
   "metadata": {},
   "outputs": [
    {
     "data": {
      "text/plain": [
       "<qiskit.circuit.instructionset.InstructionSet at 0x1dfa6b8e5f0>"
      ]
     },
     "execution_count": 9,
     "metadata": {},
     "output_type": "execute_result"
    }
   ],
   "source": [
    "# Step 7: Conditional corrections based on measurement outcomes\n",
    "qc.cx(1, 2)\n",
    "qc.cz(0, 2)"
   ]
  },
  {
   "cell_type": "code",
   "execution_count": 10,
   "id": "5ada7b90",
   "metadata": {},
   "outputs": [
    {
     "data": {
      "text/plain": [
       "<qiskit.circuit.instructionset.InstructionSet at 0x1df0c9323e0>"
      ]
     },
     "execution_count": 10,
     "metadata": {},
     "output_type": "execute_result"
    }
   ],
   "source": [
    "# Step 8: Save the statevector before measuring qubit 2\n",
    "qc.save_statevector()"
   ]
  },
  {
   "cell_type": "code",
   "execution_count": 11,
   "id": "e6de5b51",
   "metadata": {},
   "outputs": [
    {
     "data": {
      "text/plain": [
       "<qiskit.circuit.instructionset.InstructionSet at 0x1dfa6b1e9e0>"
      ]
     },
     "execution_count": 11,
     "metadata": {},
     "output_type": "execute_result"
    }
   ],
   "source": [
    "# Step 9: Measure the destination qubit (qubit 2)\n",
    "qc.measure(2, 2)"
   ]
  },
  {
   "cell_type": "code",
   "execution_count": 12,
   "id": "63988a23",
   "metadata": {},
   "outputs": [],
   "source": [
    "# Step 10: Remove final measurements for statevector output\n",
    "qc_no_meas = qc.remove_final_measurements(inplace=False)"
   ]
  },
  {
   "cell_type": "code",
   "execution_count": 13,
   "id": "fe441e1b",
   "metadata": {},
   "outputs": [],
   "source": [
    "# Step 11: Create AerSimulator with statevector method\n",
    "sim = AerSimulator(method='statevector')\n",
    "qc_compiled = transpile(qc_no_meas, sim)"
   ]
  },
  {
   "cell_type": "code",
   "execution_count": 14,
   "id": "05d17e04",
   "metadata": {},
   "outputs": [],
   "source": [
    "# Step 12: Run simulation and get statevector\n",
    "result = sim.run(qc_compiled).result()\n",
    "final_state = result.get_statevector()"
   ]
  },
  {
   "cell_type": "code",
   "execution_count": 15,
   "id": "ce0bbab1",
   "metadata": {},
   "outputs": [],
   "source": [
    "# Step 13: Partial trace to get qubit 2 state\n",
    "rho_out = partial_trace(final_state, [0, 1])"
   ]
  },
  {
   "cell_type": "code",
   "execution_count": 16,
   "id": "7cd9c6a4",
   "metadata": {},
   "outputs": [
    {
     "name": "stdout",
     "output_type": "stream",
     "text": [
      "Fidelity between input and teleported qubit: 1.0\n"
     ]
    }
   ],
   "source": [
    "# Step 14: Calculate fidelity\n",
    "fidelity = state_fidelity(initial_state, rho_out)\n",
    "print(f\"Fidelity between input and teleported qubit: {fidelity:.1f}\")"
   ]
  }
 ],
 "metadata": {
  "kernelspec": {
   "display_name": "Python 3",
   "language": "python",
   "name": "python3"
  },
  "language_info": {
   "codemirror_mode": {
    "name": "ipython",
    "version": 3
   },
   "file_extension": ".py",
   "mimetype": "text/x-python",
   "name": "python",
   "nbconvert_exporter": "python",
   "pygments_lexer": "ipython3",
   "version": "3.12.10"
  }
 },
 "nbformat": 4,
 "nbformat_minor": 5
}
