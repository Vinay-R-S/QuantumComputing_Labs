{
 "cells": [
  {
   "cell_type": "markdown",
   "id": "738ad855",
   "metadata": {},
   "source": [
    "# Practical 10 - Entorpy"
   ]
  },
  {
   "cell_type": "code",
   "execution_count": 1,
   "id": "af8c3c65",
   "metadata": {},
   "outputs": [
    {
     "name": "stdout",
     "output_type": "stream",
     "text": [
      "Requirement already satisfied: qiskit in c:\\users\\vinay\\onedrive\\desktop\\semester 5\\quantum\\quantumcomputinglabs\\.venv\\lib\\site-packages (2.1.1)\n",
      "Requirement already satisfied: rustworkx>=0.15.0 in c:\\users\\vinay\\onedrive\\desktop\\semester 5\\quantum\\quantumcomputinglabs\\.venv\\lib\\site-packages (from qiskit) (0.16.0)\n",
      "Requirement already satisfied: numpy<3,>=1.17 in c:\\users\\vinay\\onedrive\\desktop\\semester 5\\quantum\\quantumcomputinglabs\\.venv\\lib\\site-packages (from qiskit) (2.3.2)\n",
      "Requirement already satisfied: scipy>=1.5 in c:\\users\\vinay\\onedrive\\desktop\\semester 5\\quantum\\quantumcomputinglabs\\.venv\\lib\\site-packages (from qiskit) (1.16.1)\n",
      "Requirement already satisfied: dill>=0.3 in c:\\users\\vinay\\onedrive\\desktop\\semester 5\\quantum\\quantumcomputinglabs\\.venv\\lib\\site-packages (from qiskit) (0.4.0)\n",
      "Requirement already satisfied: stevedore>=3.0.0 in c:\\users\\vinay\\onedrive\\desktop\\semester 5\\quantum\\quantumcomputinglabs\\.venv\\lib\\site-packages (from qiskit) (5.4.1)\n",
      "Requirement already satisfied: typing-extensions in c:\\users\\vinay\\onedrive\\desktop\\semester 5\\quantum\\quantumcomputinglabs\\.venv\\lib\\site-packages (from qiskit) (4.14.1)\n",
      "Requirement already satisfied: pbr>=2.0.0 in c:\\users\\vinay\\onedrive\\desktop\\semester 5\\quantum\\quantumcomputinglabs\\.venv\\lib\\site-packages (from stevedore>=3.0.0->qiskit) (6.1.1)\n",
      "Requirement already satisfied: setuptools in c:\\users\\vinay\\onedrive\\desktop\\semester 5\\quantum\\quantumcomputinglabs\\.venv\\lib\\site-packages (from pbr>=2.0.0->stevedore>=3.0.0->qiskit) (80.9.0)\n",
      "Requirement already satisfied: qiskit_aer in c:\\users\\vinay\\onedrive\\desktop\\semester 5\\quantum\\quantumcomputinglabs\\.venv\\lib\\site-packages (0.17.1)\n",
      "Requirement already satisfied: qiskit>=1.1.0 in c:\\users\\vinay\\onedrive\\desktop\\semester 5\\quantum\\quantumcomputinglabs\\.venv\\lib\\site-packages (from qiskit_aer) (2.1.1)\n",
      "Requirement already satisfied: numpy>=1.16.3 in c:\\users\\vinay\\onedrive\\desktop\\semester 5\\quantum\\quantumcomputinglabs\\.venv\\lib\\site-packages (from qiskit_aer) (2.3.2)\n",
      "Requirement already satisfied: scipy>=1.0 in c:\\users\\vinay\\onedrive\\desktop\\semester 5\\quantum\\quantumcomputinglabs\\.venv\\lib\\site-packages (from qiskit_aer) (1.16.1)\n",
      "Requirement already satisfied: psutil>=5 in c:\\users\\vinay\\onedrive\\desktop\\semester 5\\quantum\\quantumcomputinglabs\\.venv\\lib\\site-packages (from qiskit_aer) (7.0.0)\n",
      "Requirement already satisfied: python-dateutil>=2.8.0 in c:\\users\\vinay\\onedrive\\desktop\\semester 5\\quantum\\quantumcomputinglabs\\.venv\\lib\\site-packages (from qiskit_aer) (2.9.0.post0)\n",
      "Requirement already satisfied: six>=1.5 in c:\\users\\vinay\\onedrive\\desktop\\semester 5\\quantum\\quantumcomputinglabs\\.venv\\lib\\site-packages (from python-dateutil>=2.8.0->qiskit_aer) (1.17.0)\n",
      "Requirement already satisfied: rustworkx>=0.15.0 in c:\\users\\vinay\\onedrive\\desktop\\semester 5\\quantum\\quantumcomputinglabs\\.venv\\lib\\site-packages (from qiskit>=1.1.0->qiskit_aer) (0.16.0)\n",
      "Requirement already satisfied: dill>=0.3 in c:\\users\\vinay\\onedrive\\desktop\\semester 5\\quantum\\quantumcomputinglabs\\.venv\\lib\\site-packages (from qiskit>=1.1.0->qiskit_aer) (0.4.0)\n",
      "Requirement already satisfied: stevedore>=3.0.0 in c:\\users\\vinay\\onedrive\\desktop\\semester 5\\quantum\\quantumcomputinglabs\\.venv\\lib\\site-packages (from qiskit>=1.1.0->qiskit_aer) (5.4.1)\n",
      "Requirement already satisfied: typing-extensions in c:\\users\\vinay\\onedrive\\desktop\\semester 5\\quantum\\quantumcomputinglabs\\.venv\\lib\\site-packages (from qiskit>=1.1.0->qiskit_aer) (4.14.1)\n",
      "Requirement already satisfied: pbr>=2.0.0 in c:\\users\\vinay\\onedrive\\desktop\\semester 5\\quantum\\quantumcomputinglabs\\.venv\\lib\\site-packages (from stevedore>=3.0.0->qiskit>=1.1.0->qiskit_aer) (6.1.1)\n",
      "Requirement already satisfied: setuptools in c:\\users\\vinay\\onedrive\\desktop\\semester 5\\quantum\\quantumcomputinglabs\\.venv\\lib\\site-packages (from pbr>=2.0.0->stevedore>=3.0.0->qiskit>=1.1.0->qiskit_aer) (80.9.0)\n"
     ]
    }
   ],
   "source": [
    "!pip install qiskit\n",
    "!pip install qiskit_aer"
   ]
  },
  {
   "cell_type": "code",
   "execution_count": 2,
   "id": "77784456",
   "metadata": {},
   "outputs": [],
   "source": [
    "from qiskit import QuantumCircuit\n",
    "from qiskit_aer import AerSimulator\n",
    "from qiskit.quantum_info import DensityMatrix, partial_trace, entropy"
   ]
  },
  {
   "cell_type": "code",
   "execution_count": 3,
   "id": "02d75ca2",
   "metadata": {},
   "outputs": [
    {
     "data": {
      "text/plain": [
       "<qiskit.circuit.instructionset.InstructionSet at 0x16570106530>"
      ]
     },
     "execution_count": 3,
     "metadata": {},
     "output_type": "execute_result"
    }
   ],
   "source": [
    "# Create a 2-qubit Bell state circuit\n",
    "qc = QuantumCircuit(2)\n",
    "qc.h(0)\n",
    "qc.cx( 0, 1 )\n",
    "qc.save_density_matrix()"
   ]
  },
  {
   "cell_type": "code",
   "execution_count": 4,
   "id": "5e269788",
   "metadata": {},
   "outputs": [],
   "source": [
    "# Simulate\n",
    "sim = AerSimulator( method = \"density_matrix\" )\n",
    "result = sim.run(qc).result()\n",
    "dm = result.data(0)[ \"density_matrix\" ]"
   ]
  },
  {
   "cell_type": "code",
   "execution_count": 5,
   "id": "bc8ad395",
   "metadata": {},
   "outputs": [],
   "source": [
    "# Create DensityMatrix object of full system\n",
    "rho = DensityMatrix( dm )"
   ]
  },
  {
   "cell_type": "code",
   "execution_count": 6,
   "id": "c97ad612",
   "metadata": {},
   "outputs": [],
   "source": [
    "# Compute reduced density matrix of qubit-0 by tracing out qubit-1\n",
    "reduced_rho = partial_trace( rho, [1] )"
   ]
  },
  {
   "cell_type": "code",
   "execution_count": 7,
   "id": "c32377b4",
   "metadata": {},
   "outputs": [
    {
     "name": "stdout",
     "output_type": "stream",
     "text": [
      "Entropy of whole two qubits system (bits): 1.6017132519074586e-16\n",
      "Entropy of reduced single qubit (bits): 0.9999999999999999\n"
     ]
    }
   ],
   "source": [
    "# Calculate von Neumann entropy of the reduced state\n",
    "\"\"\"\n",
    "Important detail:\n",
    "The Bell state as a whole two-qubit system is pure, so von Neumann entropy of\n",
    "the entire density matrix is 0 (or numerical zero).\n",
    "The subsystems (each single qubit reduced density matrices) are mixed and have\n",
    "non-zero entropy (~1 bit).\n",
    "How to correctly see the entropy of 1 bit for the Bell state:\n",
    "Compute the reduced density matrix of a single qubit by tracing out the other\n",
    "qubit, then calculate the entropy of this reduced state.\n",
    "Partial Trace function operation effectively \"ignores\" or \"discards\" the\n",
    "subsystem(s) in the list from the full quantum state, providing the quantum\n",
    "state of the remaining subsystems alone with all correlations accounted for.\n",
    "\"\"\"\n",
    "\n",
    "S_whole = entropy ( rho, base = 2 )\n",
    "S_single = entropy( reduced_rho, base = 2 )\n",
    "\n",
    "# Entropy should be close to 0 for the whole 2-qubit system\n",
    "print( \"Entropy of whole two qubits system (bits):\", S_whole )\n",
    "\n",
    "# Entropy should be close to 1 indicating mixed state\n",
    "print( \"Entropy of reduced single qubit (bits):\", S_single )"
   ]
  }
 ],
 "metadata": {
  "kernelspec": {
   "display_name": ".venv (3.12.10)",
   "language": "python",
   "name": "python3"
  },
  "language_info": {
   "codemirror_mode": {
    "name": "ipython",
    "version": 3
   },
   "file_extension": ".py",
   "mimetype": "text/x-python",
   "name": "python",
   "nbconvert_exporter": "python",
   "pygments_lexer": "ipython3",
   "version": "3.12.10"
  }
 },
 "nbformat": 4,
 "nbformat_minor": 5
}
