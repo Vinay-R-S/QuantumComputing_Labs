{
 "cells": [
  {
   "cell_type": "code",
   "execution_count": 1,
   "id": "4db15434",
   "metadata": {},
   "outputs": [
    {
     "name": "stdout",
     "output_type": "stream",
     "text": [
      "Requirement already satisfied: qiskit in c:\\users\\vinay\\appdata\\local\\programs\\python\\python312\\lib\\site-packages (2.1.1)\n",
      "Requirement already satisfied: rustworkx>=0.15.0 in c:\\users\\vinay\\appdata\\local\\programs\\python\\python312\\lib\\site-packages (from qiskit) (0.16.0)\n",
      "Requirement already satisfied: numpy<3,>=1.17 in c:\\users\\vinay\\appdata\\local\\programs\\python\\python312\\lib\\site-packages (from qiskit) (2.3.2)\n",
      "Requirement already satisfied: scipy>=1.5 in c:\\users\\vinay\\appdata\\local\\programs\\python\\python312\\lib\\site-packages (from qiskit) (1.16.1)\n",
      "Requirement already satisfied: dill>=0.3 in c:\\users\\vinay\\appdata\\local\\programs\\python\\python312\\lib\\site-packages (from qiskit) (0.4.0)\n",
      "Requirement already satisfied: stevedore>=3.0.0 in c:\\users\\vinay\\appdata\\local\\programs\\python\\python312\\lib\\site-packages (from qiskit) (5.4.1)\n",
      "Requirement already satisfied: typing-extensions in c:\\users\\vinay\\appdata\\local\\programs\\python\\python312\\lib\\site-packages (from qiskit) (4.14.1)\n",
      "Requirement already satisfied: pbr>=2.0.0 in c:\\users\\vinay\\appdata\\local\\programs\\python\\python312\\lib\\site-packages (from stevedore>=3.0.0->qiskit) (6.1.1)\n",
      "Requirement already satisfied: setuptools in c:\\users\\vinay\\appdata\\local\\programs\\python\\python312\\lib\\site-packages (from pbr>=2.0.0->stevedore>=3.0.0->qiskit) (80.9.0)\n",
      "Requirement already satisfied: qiskit-aer in c:\\users\\vinay\\appdata\\local\\programs\\python\\python312\\lib\\site-packages (0.17.2)\n",
      "Requirement already satisfied: qiskit>=1.1.0 in c:\\users\\vinay\\appdata\\local\\programs\\python\\python312\\lib\\site-packages (from qiskit-aer) (2.1.1)\n",
      "Requirement already satisfied: numpy>=1.16.3 in c:\\users\\vinay\\appdata\\local\\programs\\python\\python312\\lib\\site-packages (from qiskit-aer) (2.3.2)\n",
      "Requirement already satisfied: scipy>=1.0 in c:\\users\\vinay\\appdata\\local\\programs\\python\\python312\\lib\\site-packages (from qiskit-aer) (1.16.1)\n",
      "Requirement already satisfied: psutil>=5 in c:\\users\\vinay\\appdata\\roaming\\python\\python312\\site-packages (from qiskit-aer) (6.1.1)\n",
      "Requirement already satisfied: python-dateutil>=2.8.0 in c:\\users\\vinay\\appdata\\roaming\\python\\python312\\site-packages (from qiskit-aer) (2.9.0.post0)\n",
      "Requirement already satisfied: six>=1.5 in c:\\users\\vinay\\appdata\\roaming\\python\\python312\\site-packages (from python-dateutil>=2.8.0->qiskit-aer) (1.17.0)\n",
      "Requirement already satisfied: rustworkx>=0.15.0 in c:\\users\\vinay\\appdata\\local\\programs\\python\\python312\\lib\\site-packages (from qiskit>=1.1.0->qiskit-aer) (0.16.0)\n",
      "Requirement already satisfied: dill>=0.3 in c:\\users\\vinay\\appdata\\local\\programs\\python\\python312\\lib\\site-packages (from qiskit>=1.1.0->qiskit-aer) (0.4.0)\n",
      "Requirement already satisfied: stevedore>=3.0.0 in c:\\users\\vinay\\appdata\\local\\programs\\python\\python312\\lib\\site-packages (from qiskit>=1.1.0->qiskit-aer) (5.4.1)\n",
      "Requirement already satisfied: typing-extensions in c:\\users\\vinay\\appdata\\local\\programs\\python\\python312\\lib\\site-packages (from qiskit>=1.1.0->qiskit-aer) (4.14.1)\n",
      "Requirement already satisfied: pbr>=2.0.0 in c:\\users\\vinay\\appdata\\local\\programs\\python\\python312\\lib\\site-packages (from stevedore>=3.0.0->qiskit>=1.1.0->qiskit-aer) (6.1.1)\n",
      "Requirement already satisfied: setuptools in c:\\users\\vinay\\appdata\\local\\programs\\python\\python312\\lib\\site-packages (from pbr>=2.0.0->stevedore>=3.0.0->qiskit>=1.1.0->qiskit-aer) (80.9.0)\n",
      "Requirement already satisfied: qiskit[visualization] in c:\\users\\vinay\\appdata\\local\\programs\\python\\python312\\lib\\site-packages (2.1.1)\n",
      "Requirement already satisfied: rustworkx>=0.15.0 in c:\\users\\vinay\\appdata\\local\\programs\\python\\python312\\lib\\site-packages (from qiskit[visualization]) (0.16.0)\n",
      "Requirement already satisfied: numpy<3,>=1.17 in c:\\users\\vinay\\appdata\\local\\programs\\python\\python312\\lib\\site-packages (from qiskit[visualization]) (2.3.2)\n",
      "Requirement already satisfied: scipy>=1.5 in c:\\users\\vinay\\appdata\\local\\programs\\python\\python312\\lib\\site-packages (from qiskit[visualization]) (1.16.1)\n",
      "Requirement already satisfied: dill>=0.3 in c:\\users\\vinay\\appdata\\local\\programs\\python\\python312\\lib\\site-packages (from qiskit[visualization]) (0.4.0)\n",
      "Requirement already satisfied: stevedore>=3.0.0 in c:\\users\\vinay\\appdata\\local\\programs\\python\\python312\\lib\\site-packages (from qiskit[visualization]) (5.4.1)\n",
      "Requirement already satisfied: typing-extensions in c:\\users\\vinay\\appdata\\local\\programs\\python\\python312\\lib\\site-packages (from qiskit[visualization]) (4.14.1)\n",
      "Requirement already satisfied: matplotlib>=3.3 in c:\\users\\vinay\\appdata\\local\\programs\\python\\python312\\lib\\site-packages (from qiskit[visualization]) (3.10.5)\n",
      "Requirement already satisfied: pydot in c:\\users\\vinay\\appdata\\local\\programs\\python\\python312\\lib\\site-packages (from qiskit[visualization]) (4.0.1)\n",
      "Requirement already satisfied: Pillow>=4.2.1 in c:\\users\\vinay\\appdata\\local\\programs\\python\\python312\\lib\\site-packages (from qiskit[visualization]) (11.3.0)\n",
      "Requirement already satisfied: pylatexenc>=1.4 in c:\\users\\vinay\\appdata\\local\\programs\\python\\python312\\lib\\site-packages (from qiskit[visualization]) (2.10)\n",
      "Requirement already satisfied: seaborn>=0.9.0 in c:\\users\\vinay\\appdata\\local\\programs\\python\\python312\\lib\\site-packages (from qiskit[visualization]) (0.13.2)\n",
      "Requirement already satisfied: sympy>=1.3 in c:\\users\\vinay\\appdata\\local\\programs\\python\\python312\\lib\\site-packages (from qiskit[visualization]) (1.14.0)\n",
      "Requirement already satisfied: contourpy>=1.0.1 in c:\\users\\vinay\\appdata\\local\\programs\\python\\python312\\lib\\site-packages (from matplotlib>=3.3->qiskit[visualization]) (1.3.3)\n",
      "Requirement already satisfied: cycler>=0.10 in c:\\users\\vinay\\appdata\\local\\programs\\python\\python312\\lib\\site-packages (from matplotlib>=3.3->qiskit[visualization]) (0.12.1)\n",
      "Requirement already satisfied: fonttools>=4.22.0 in c:\\users\\vinay\\appdata\\local\\programs\\python\\python312\\lib\\site-packages (from matplotlib>=3.3->qiskit[visualization]) (4.59.0)\n",
      "Requirement already satisfied: kiwisolver>=1.3.1 in c:\\users\\vinay\\appdata\\local\\programs\\python\\python312\\lib\\site-packages (from matplotlib>=3.3->qiskit[visualization]) (1.4.8)\n",
      "Requirement already satisfied: packaging>=20.0 in c:\\users\\vinay\\appdata\\local\\programs\\python\\python312\\lib\\site-packages (from matplotlib>=3.3->qiskit[visualization]) (23.2)\n",
      "Requirement already satisfied: pyparsing>=2.3.1 in c:\\users\\vinay\\appdata\\local\\programs\\python\\python312\\lib\\site-packages (from matplotlib>=3.3->qiskit[visualization]) (3.2.3)\n",
      "Requirement already satisfied: python-dateutil>=2.7 in c:\\users\\vinay\\appdata\\roaming\\python\\python312\\site-packages (from matplotlib>=3.3->qiskit[visualization]) (2.9.0.post0)\n",
      "Requirement already satisfied: six>=1.5 in c:\\users\\vinay\\appdata\\roaming\\python\\python312\\site-packages (from python-dateutil>=2.7->matplotlib>=3.3->qiskit[visualization]) (1.17.0)\n",
      "Requirement already satisfied: pandas>=1.2 in c:\\users\\vinay\\appdata\\local\\programs\\python\\python312\\lib\\site-packages (from seaborn>=0.9.0->qiskit[visualization]) (2.3.1)\n",
      "Requirement already satisfied: pytz>=2020.1 in c:\\users\\vinay\\appdata\\local\\programs\\python\\python312\\lib\\site-packages (from pandas>=1.2->seaborn>=0.9.0->qiskit[visualization]) (2025.2)\n",
      "Requirement already satisfied: tzdata>=2022.7 in c:\\users\\vinay\\appdata\\local\\programs\\python\\python312\\lib\\site-packages (from pandas>=1.2->seaborn>=0.9.0->qiskit[visualization]) (2025.2)\n",
      "Requirement already satisfied: pbr>=2.0.0 in c:\\users\\vinay\\appdata\\local\\programs\\python\\python312\\lib\\site-packages (from stevedore>=3.0.0->qiskit[visualization]) (6.1.1)\n",
      "Requirement already satisfied: setuptools in c:\\users\\vinay\\appdata\\local\\programs\\python\\python312\\lib\\site-packages (from pbr>=2.0.0->stevedore>=3.0.0->qiskit[visualization]) (80.9.0)\n",
      "Requirement already satisfied: mpmath<1.4,>=1.1.0 in c:\\users\\vinay\\appdata\\local\\programs\\python\\python312\\lib\\site-packages (from sympy>=1.3->qiskit[visualization]) (1.3.0)\n"
     ]
    }
   ],
   "source": [
    "!pip install qiskit\n",
    "!pip install qiskit-aer\n",
    "!pip install qiskit[visualization]"
   ]
  },
  {
   "cell_type": "code",
   "execution_count": 2,
   "id": "1493b02c",
   "metadata": {},
   "outputs": [],
   "source": [
    "from qiskit import QuantumCircuit\n",
    "from qiskit_aer import AerSimulator\n",
    "from qiskit.visualization import plot_histogram\n",
    "import math\n",
    "from fractions import Fraction"
   ]
  },
  {
   "cell_type": "code",
   "execution_count": 3,
   "id": "862f8f80",
   "metadata": {},
   "outputs": [],
   "source": [
    "def continued_fraction( x, max_denominator ):\n",
    "    frac = Fraction( x ).limit_denominator( max_denominator )\n",
    "    return frac.denominator"
   ]
  },
  {
   "cell_type": "code",
   "execution_count": 4,
   "id": "905740ba",
   "metadata": {},
   "outputs": [],
   "source": [
    "def quantum_order_finding( a, N ):\n",
    "    n = int( math.ceil( math.log2( N ) ) )\n",
    "    \n",
    "    qc = QuantumCircuit( 2*n + n, 2*n )\n",
    "    qc.x( 2*n + n - 1 )\n",
    "    qc.h( range( 2*n ) )\n",
    "    \n",
    "    # Inverse QFT on upper register (simplified)\n",
    "    for qubit in range( 2*n // 2):\n",
    "        qc.swap( qubit, 2*n - qubit - 1 )\n",
    "    for j in range( 2*n ):\n",
    "        for m in range( j ):\n",
    "            qc.cp( -math.pi / float( 2 ** ( j - m ) ), m, j )\n",
    "        qc.h( j )\n",
    "        \n",
    "    qc.measure( range( 2*n ), range( 2*n ) )\n",
    "    \n",
    "    simulator = AerSimulator()\n",
    "    job = simulator.run( qc, shots = 1024 )\n",
    "    result = job.result()\n",
    "    counts = result.get_counts()\n",
    "    \n",
    "    measured = max( counts, key = counts.get )\n",
    "    decimal = int( measured, 2 )\n",
    "    \n",
    "    phase = decimal / ( 2 ** ( 2 * n ) )\n",
    "    r = continued_fraction( phase, N )\n",
    "    \n",
    "    return r"
   ]
  },
  {
   "cell_type": "code",
   "execution_count": 5,
   "id": "c394bf28",
   "metadata": {},
   "outputs": [],
   "source": [
    "def find_factors( N ):\n",
    "    for a in range( 2, N ):\n",
    "        if math.gcd( a, N ) != 1:\n",
    "            factor = math.gcd(a, N)\n",
    "            print( f\"Found non-trivial factor {factor} by gcd with a={a}\" )\n",
    "            return factor\n",
    "    \n",
    "        print( f\"Trying a = {a}\" )\n",
    "        r = quantum_order_finding (a, N )\n",
    "        print( f\"Estimated order r = {r}\" )\n",
    "    \n",
    "        if r is None or r % 2 != 0:\n",
    "            print( f\"r = {r} is odd or None; trying next a\" )\n",
    "            continue\n",
    "    \n",
    "        x = pow( a, r // 2, N )\n",
    "        \n",
    "        if x == N - 1:\n",
    "            print( \"x ≡ -1 mod N; trying next a\" )\n",
    "            continue\n",
    "    \n",
    "        factor1 = math.gcd( x - 1, N )\n",
    "        factor2 = math.gcd( x + 1, N )\n",
    "    \n",
    "        print( f\"Possible factors: {factor1}, {factor2}\" )\n",
    "        if factor1 != 1 and factor1 != N:\n",
    "            print( f\"Non-trivial factor found: {factor1}\" )\n",
    "            return factor1\n",
    "\n",
    "        if factor2 != 1 and factor2 != N:\n",
    "            print (f\"Non-trivial factor found: {factor2}\" )\n",
    "            return factor2\n",
    "\n",
    "    print(\"Failed to find factors with all candidates\")\n",
    "    return None"
   ]
  },
  {
   "cell_type": "code",
   "execution_count": null,
   "id": "2eae1c6b",
   "metadata": {},
   "outputs": [
    {
     "name": "stdout",
     "output_type": "stream",
     "text": [
      "Trying a = 2\n",
      "Estimated order r = 1\n",
      "r = 1 is odd or None; trying next a\n",
      "Found non-trivial factor 3 by gcd with a=3\n",
      "Result: factor of 11235 is 3\n"
     ]
    }
   ],
   "source": [
    "N = 11235\n",
    "factor = find_factors(N)\n",
    "print(f\"Result: factor of {N} is {factor}\")"
   ]
  }
 ],
 "metadata": {
  "kernelspec": {
   "display_name": "Python 3",
   "language": "python",
   "name": "python3"
  },
  "language_info": {
   "codemirror_mode": {
    "name": "ipython",
    "version": 3
   },
   "file_extension": ".py",
   "mimetype": "text/x-python",
   "name": "python",
   "nbconvert_exporter": "python",
   "pygments_lexer": "ipython3",
   "version": "3.12.10"
  }
 },
 "nbformat": 4,
 "nbformat_minor": 5
}
