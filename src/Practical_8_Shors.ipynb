{
 "cells": [
  {
   "cell_type": "code",
   "execution_count": null,
   "id": "4db15434",
   "metadata": {},
   "outputs": [],
   "source": [
    "!pip install qiskit\n",
    "!pip install qiskit-aer\n",
    "!pip install qiskit[visualization]"
   ]
  },
  {
   "cell_type": "code",
   "execution_count": 3,
   "id": "1493b02c",
   "metadata": {},
   "outputs": [],
   "source": [
    "from qiskit import QuantumCircuit\n",
    "from qiskit_aer import AerSimulator\n",
    "from qiskit.visualization import plot_histogram\n",
    "import math\n",
    "from fractions import Fraction"
   ]
  },
  {
   "cell_type": "code",
   "execution_count": 4,
   "id": "862f8f80",
   "metadata": {},
   "outputs": [],
   "source": [
    "def continued_fraction( x, max_denominator ):\n",
    "    frac = Fraction( x ).limit_denominator( max_denominator )\n",
    "    return frac.denominator"
   ]
  },
  {
   "cell_type": "code",
   "execution_count": 5,
   "id": "905740ba",
   "metadata": {},
   "outputs": [],
   "source": [
    "def quantum_order_finding( a, N ):\n",
    "    n = int( math.ceil( math.log2( N ) ) )\n",
    "    \n",
    "    qc = QuantumCircuit( 2*n + n, 2*n )\n",
    "    qc.x( 2*n + n - 1 )\n",
    "    qc.h( range( 2*n ) )\n",
    "    \n",
    "    # Inverse QFT on upper register (simplified)\n",
    "    for qubit in range( 2*n // 2):\n",
    "        qc.swap( qubit, 2*n - qubit - 1 )\n",
    "    for j in range( 2*n ):\n",
    "        for m in range( j ):\n",
    "            qc.cp( -math.pi / float( 2 ** ( j - m ) ), m, j )\n",
    "        qc.h( j )\n",
    "        \n",
    "    qc.measure( range( 2*n ), range( 2*n ) )\n",
    "    \n",
    "    simulator = AerSimulator()\n",
    "    job = simulator.run( qc, shots = 1024 )\n",
    "    result = job.result()\n",
    "    counts = result.get_counts()\n",
    "    \n",
    "    measured = max( counts, key = counts.get )\n",
    "    decimal = int( measured, 2 )\n",
    "    \n",
    "    phase = decimal / ( 2 ** ( 2 * n ) )\n",
    "    r = continued_fraction( phase, N )\n",
    "    \n",
    "    return r"
   ]
  },
  {
   "cell_type": "code",
   "execution_count": 7,
   "id": "c394bf28",
   "metadata": {},
   "outputs": [],
   "source": [
    "def find_factors( N ):\n",
    "    for a in range( 2, N ):\n",
    "        if math.gcd( a, N ) != 1:\n",
    "            factor = math.gcd(a, N)\n",
    "            print( f\"Found non-trivial factor {factor} by gcd with a={a}\" )\n",
    "            return factor\n",
    "    \n",
    "        print( f\"Trying a = {a}\" )\n",
    "        r = quantum_order_finding (a, N )\n",
    "        print( f\"Estimated order r = {r}\" )\n",
    "    \n",
    "        if r is None or r % 2 != 0:\n",
    "            print( f\"r = {r} is odd or None; trying next a\" )\n",
    "            continue\n",
    "    \n",
    "        x = pow( a, r // 2, N )\n",
    "        \n",
    "        if x == N - 1:\n",
    "            print( \"x ≡ -1 mod N; trying next a\" )\n",
    "            continue\n",
    "    \n",
    "        factor1 = math.gcd( x - 1, N )\n",
    "        factor2 = math.gcd( x + 1, N )\n",
    "    \n",
    "        print( f\"Possible factors: {factor1}, {factor2}\" )\n",
    "        if factor1 != 1 and factor1 != N:\n",
    "            print( f\"Non-trivial factor found: {factor1}\" )\n",
    "            return factor1\n",
    "\n",
    "        if factor2 != 1 and factor2 != N:\n",
    "            print (f\"Non-trivial factor found: {factor2}\" )\n",
    "            return factor2\n",
    "\n",
    "    print(\"Failed to find factors with all candidates\")\n",
    "    return None"
   ]
  },
  {
   "cell_type": "code",
   "execution_count": 8,
   "id": "2eae1c6b",
   "metadata": {},
   "outputs": [
    {
     "name": "stdout",
     "output_type": "stream",
     "text": [
      "Trying a = 2\n",
      "Estimated order r = 1\n",
      "r = 1 is odd or None; trying next a\n",
      "Found non-trivial factor 3 by gcd with a=3\n",
      "Result: factor of 11235 is 3\n"
     ]
    }
   ],
   "source": [
    "N = 11235\n",
    "factor = find_factors( N )\n",
    "print( f\"Result: factor of {N} is {factor}\" )"
   ]
  }
 ],
 "metadata": {
  "kernelspec": {
   "display_name": ".venv (3.12.10)",
   "language": "python",
   "name": "python3"
  },
  "language_info": {
   "codemirror_mode": {
    "name": "ipython",
    "version": 3
   },
   "file_extension": ".py",
   "mimetype": "text/x-python",
   "name": "python",
   "nbconvert_exporter": "python",
   "pygments_lexer": "ipython3",
   "version": "3.12.10"
  }
 },
 "nbformat": 4,
 "nbformat_minor": 5
}
