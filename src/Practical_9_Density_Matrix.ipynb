{
 "cells": [
  {
   "cell_type": "markdown",
   "id": "e476aba0",
   "metadata": {},
   "source": [
    "# Practical 9 - Density Matrix"
   ]
  },
  {
   "cell_type": "code",
   "execution_count": 1,
   "id": "ea7f1ed5",
   "metadata": {},
   "outputs": [
    {
     "name": "stdout",
     "output_type": "stream",
     "text": [
      "Requirement already satisfied: qiskit in c:\\users\\vinay\\onedrive\\desktop\\semester 5\\quantum\\quantumcomputinglabs\\.venv\\lib\\site-packages (2.1.1)\n",
      "Requirement already satisfied: rustworkx>=0.15.0 in c:\\users\\vinay\\onedrive\\desktop\\semester 5\\quantum\\quantumcomputinglabs\\.venv\\lib\\site-packages (from qiskit) (0.16.0)\n",
      "Requirement already satisfied: numpy<3,>=1.17 in c:\\users\\vinay\\onedrive\\desktop\\semester 5\\quantum\\quantumcomputinglabs\\.venv\\lib\\site-packages (from qiskit) (2.3.2)\n",
      "Requirement already satisfied: scipy>=1.5 in c:\\users\\vinay\\onedrive\\desktop\\semester 5\\quantum\\quantumcomputinglabs\\.venv\\lib\\site-packages (from qiskit) (1.16.1)\n",
      "Requirement already satisfied: dill>=0.3 in c:\\users\\vinay\\onedrive\\desktop\\semester 5\\quantum\\quantumcomputinglabs\\.venv\\lib\\site-packages (from qiskit) (0.4.0)\n",
      "Requirement already satisfied: stevedore>=3.0.0 in c:\\users\\vinay\\onedrive\\desktop\\semester 5\\quantum\\quantumcomputinglabs\\.venv\\lib\\site-packages (from qiskit) (5.4.1)\n",
      "Requirement already satisfied: typing-extensions in c:\\users\\vinay\\onedrive\\desktop\\semester 5\\quantum\\quantumcomputinglabs\\.venv\\lib\\site-packages (from qiskit) (4.14.1)\n",
      "Requirement already satisfied: pbr>=2.0.0 in c:\\users\\vinay\\onedrive\\desktop\\semester 5\\quantum\\quantumcomputinglabs\\.venv\\lib\\site-packages (from stevedore>=3.0.0->qiskit) (6.1.1)\n",
      "Requirement already satisfied: setuptools in c:\\users\\vinay\\onedrive\\desktop\\semester 5\\quantum\\quantumcomputinglabs\\.venv\\lib\\site-packages (from pbr>=2.0.0->stevedore>=3.0.0->qiskit) (80.9.0)\n",
      "Requirement already satisfied: qiskit-aer in c:\\users\\vinay\\onedrive\\desktop\\semester 5\\quantum\\quantumcomputinglabs\\.venv\\lib\\site-packages (0.17.1)\n",
      "Requirement already satisfied: qiskit>=1.1.0 in c:\\users\\vinay\\onedrive\\desktop\\semester 5\\quantum\\quantumcomputinglabs\\.venv\\lib\\site-packages (from qiskit-aer) (2.1.1)\n",
      "Requirement already satisfied: numpy>=1.16.3 in c:\\users\\vinay\\onedrive\\desktop\\semester 5\\quantum\\quantumcomputinglabs\\.venv\\lib\\site-packages (from qiskit-aer) (2.3.2)\n",
      "Requirement already satisfied: scipy>=1.0 in c:\\users\\vinay\\onedrive\\desktop\\semester 5\\quantum\\quantumcomputinglabs\\.venv\\lib\\site-packages (from qiskit-aer) (1.16.1)\n",
      "Requirement already satisfied: psutil>=5 in c:\\users\\vinay\\onedrive\\desktop\\semester 5\\quantum\\quantumcomputinglabs\\.venv\\lib\\site-packages (from qiskit-aer) (7.0.0)\n",
      "Requirement already satisfied: python-dateutil>=2.8.0 in c:\\users\\vinay\\onedrive\\desktop\\semester 5\\quantum\\quantumcomputinglabs\\.venv\\lib\\site-packages (from qiskit-aer) (2.9.0.post0)\n",
      "Requirement already satisfied: six>=1.5 in c:\\users\\vinay\\onedrive\\desktop\\semester 5\\quantum\\quantumcomputinglabs\\.venv\\lib\\site-packages (from python-dateutil>=2.8.0->qiskit-aer) (1.17.0)\n",
      "Requirement already satisfied: rustworkx>=0.15.0 in c:\\users\\vinay\\onedrive\\desktop\\semester 5\\quantum\\quantumcomputinglabs\\.venv\\lib\\site-packages (from qiskit>=1.1.0->qiskit-aer) (0.16.0)\n",
      "Requirement already satisfied: dill>=0.3 in c:\\users\\vinay\\onedrive\\desktop\\semester 5\\quantum\\quantumcomputinglabs\\.venv\\lib\\site-packages (from qiskit>=1.1.0->qiskit-aer) (0.4.0)\n",
      "Requirement already satisfied: stevedore>=3.0.0 in c:\\users\\vinay\\onedrive\\desktop\\semester 5\\quantum\\quantumcomputinglabs\\.venv\\lib\\site-packages (from qiskit>=1.1.0->qiskit-aer) (5.4.1)\n",
      "Requirement already satisfied: typing-extensions in c:\\users\\vinay\\onedrive\\desktop\\semester 5\\quantum\\quantumcomputinglabs\\.venv\\lib\\site-packages (from qiskit>=1.1.0->qiskit-aer) (4.14.1)\n",
      "Requirement already satisfied: pbr>=2.0.0 in c:\\users\\vinay\\onedrive\\desktop\\semester 5\\quantum\\quantumcomputinglabs\\.venv\\lib\\site-packages (from stevedore>=3.0.0->qiskit>=1.1.0->qiskit-aer) (6.1.1)\n",
      "Requirement already satisfied: setuptools in c:\\users\\vinay\\onedrive\\desktop\\semester 5\\quantum\\quantumcomputinglabs\\.venv\\lib\\site-packages (from pbr>=2.0.0->stevedore>=3.0.0->qiskit>=1.1.0->qiskit-aer) (80.9.0)\n",
      "Requirement already satisfied: qiskit[quantum_info] in c:\\users\\vinay\\onedrive\\desktop\\semester 5\\quantum\\quantumcomputinglabs\\.venv\\lib\\site-packages (2.1.1)\n",
      "Requirement already satisfied: rustworkx>=0.15.0 in c:\\users\\vinay\\onedrive\\desktop\\semester 5\\quantum\\quantumcomputinglabs\\.venv\\lib\\site-packages (from qiskit[quantum_info]) (0.16.0)\n",
      "Requirement already satisfied: numpy<3,>=1.17 in c:\\users\\vinay\\onedrive\\desktop\\semester 5\\quantum\\quantumcomputinglabs\\.venv\\lib\\site-packages (from qiskit[quantum_info]) (2.3.2)\n",
      "Requirement already satisfied: scipy>=1.5 in c:\\users\\vinay\\onedrive\\desktop\\semester 5\\quantum\\quantumcomputinglabs\\.venv\\lib\\site-packages (from qiskit[quantum_info]) (1.16.1)\n",
      "Requirement already satisfied: dill>=0.3 in c:\\users\\vinay\\onedrive\\desktop\\semester 5\\quantum\\quantumcomputinglabs\\.venv\\lib\\site-packages (from qiskit[quantum_info]) (0.4.0)\n",
      "Requirement already satisfied: stevedore>=3.0.0 in c:\\users\\vinay\\onedrive\\desktop\\semester 5\\quantum\\quantumcomputinglabs\\.venv\\lib\\site-packages (from qiskit[quantum_info]) (5.4.1)\n",
      "Requirement already satisfied: typing-extensions in c:\\users\\vinay\\onedrive\\desktop\\semester 5\\quantum\\quantumcomputinglabs\\.venv\\lib\\site-packages (from qiskit[quantum_info]) (4.14.1)\n",
      "Requirement already satisfied: pbr>=2.0.0 in c:\\users\\vinay\\onedrive\\desktop\\semester 5\\quantum\\quantumcomputinglabs\\.venv\\lib\\site-packages (from stevedore>=3.0.0->qiskit[quantum_info]) (6.1.1)\n",
      "Requirement already satisfied: setuptools in c:\\users\\vinay\\onedrive\\desktop\\semester 5\\quantum\\quantumcomputinglabs\\.venv\\lib\\site-packages (from pbr>=2.0.0->stevedore>=3.0.0->qiskit[quantum_info]) (80.9.0)\n"
     ]
    },
    {
     "name": "stderr",
     "output_type": "stream",
     "text": [
      "WARNING: qiskit 2.1.1 does not provide the extra 'quantum-info'\n"
     ]
    }
   ],
   "source": [
    "!pip install qiskit\n",
    "!pip install qiskit-aer\n",
    "!pip install qiskit[quantum_info]"
   ]
  },
  {
   "cell_type": "code",
   "execution_count": 2,
   "id": "debea083",
   "metadata": {},
   "outputs": [],
   "source": [
    "from qiskit import QuantumCircuit, transpile\n",
    "from qiskit_aer import AerSimulator"
   ]
  },
  {
   "cell_type": "code",
   "execution_count": 3,
   "id": "732fdfb2",
   "metadata": {},
   "outputs": [
    {
     "data": {
      "text/plain": [
       "<qiskit.circuit.instructionset.InstructionSet at 0x152c685c700>"
      ]
     },
     "execution_count": 3,
     "metadata": {},
     "output_type": "execute_result"
    }
   ],
   "source": [
    "# Create a 2-qubit bell state circuit\n",
    "qc = QuantumCircuit(2)\n",
    "qc.h(0)\n",
    "qc.cx(0,1)"
   ]
  },
  {
   "cell_type": "code",
   "execution_count": 4,
   "id": "1b42348a",
   "metadata": {},
   "outputs": [
    {
     "data": {
      "text/plain": [
       "<qiskit.circuit.instructionset.InstructionSet at 0x15326ad80d0>"
      ]
     },
     "execution_count": 4,
     "metadata": {},
     "output_type": "execute_result"
    }
   ],
   "source": [
    "# Save the density matrix at the end of the circuit\n",
    "qc.save_density_matrix()"
   ]
  },
  {
   "cell_type": "code",
   "execution_count": 5,
   "id": "f4053203",
   "metadata": {},
   "outputs": [],
   "source": [
    "# Initialize Aer simulator with density matrix method\n",
    "simulator = AerSimulator(method='density_matrix')"
   ]
  },
  {
   "cell_type": "code",
   "execution_count": 6,
   "id": "003f2cf2",
   "metadata": {},
   "outputs": [],
   "source": [
    "tcirc = transpile(qc, simulator)"
   ]
  },
  {
   "cell_type": "code",
   "execution_count": 7,
   "id": "bb57c8d1",
   "metadata": {},
   "outputs": [],
   "source": [
    "result = simulator.run(tcirc).result()"
   ]
  },
  {
   "cell_type": "code",
   "execution_count": 8,
   "id": "efd4ab6a",
   "metadata": {},
   "outputs": [],
   "source": [
    "# Extract the density matrix from the result\n",
    "density_matrix = result.data(0)['density_matrix']"
   ]
  },
  {
   "cell_type": "code",
   "execution_count": 9,
   "id": "23a6f05a",
   "metadata": {},
   "outputs": [
    {
     "name": "stdout",
     "output_type": "stream",
     "text": [
      "Density matrix of the Bell state:\n",
      "DensityMatrix([[0.5+0.j, 0. +0.j, 0. +0.j, 0.5+0.j],\n",
      "               [0. +0.j, 0. +0.j, 0. +0.j, 0. +0.j],\n",
      "               [0. +0.j, 0. +0.j, 0. +0.j, 0. +0.j],\n",
      "               [0.5+0.j, 0. +0.j, 0. +0.j, 0.5+0.j]],\n",
      "              dims=(2, 2))\n"
     ]
    }
   ],
   "source": [
    "print(\"Density matrix of the Bell state:\")\n",
    "print(density_matrix)"
   ]
  }
 ],
 "metadata": {
  "kernelspec": {
   "display_name": ".venv (3.12.10)",
   "language": "python",
   "name": "python3"
  },
  "language_info": {
   "codemirror_mode": {
    "name": "ipython",
    "version": 3
   },
   "file_extension": ".py",
   "mimetype": "text/x-python",
   "name": "python",
   "nbconvert_exporter": "python",
   "pygments_lexer": "ipython3",
   "version": "3.12.10"
  }
 },
 "nbformat": 4,
 "nbformat_minor": 5
}
