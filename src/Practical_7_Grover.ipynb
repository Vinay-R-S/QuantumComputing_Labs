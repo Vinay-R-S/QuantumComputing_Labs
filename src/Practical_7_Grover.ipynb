{
  "cells": [
    {
      "cell_type": "markdown",
      "metadata": {},
      "source": [
        "## Practical 7 - Grover Algorithm"
      ]
    },
    {
      "cell_type": "markdown",
      "metadata": {
        "id": "vf7LuyCU6Vbg"
      },
      "source": [
        "# Grover's Algo"
      ]
    },
    {
      "cell_type": "code",
      "execution_count": 19,
      "metadata": {},
      "outputs": [
        {
          "name": "stdout",
          "output_type": "stream",
          "text": [
            "Requirement already satisfied: qiskit in c:\\users\\vinay\\appdata\\local\\programs\\python\\python312\\lib\\site-packages (2.1.1)\n",
            "Requirement already satisfied: rustworkx>=0.15.0 in c:\\users\\vinay\\appdata\\local\\programs\\python\\python312\\lib\\site-packages (from qiskit) (0.16.0)\n",
            "Requirement already satisfied: numpy<3,>=1.17 in c:\\users\\vinay\\appdata\\local\\programs\\python\\python312\\lib\\site-packages (from qiskit) (2.3.2)\n",
            "Requirement already satisfied: scipy>=1.5 in c:\\users\\vinay\\appdata\\local\\programs\\python\\python312\\lib\\site-packages (from qiskit) (1.16.1)\n",
            "Requirement already satisfied: dill>=0.3 in c:\\users\\vinay\\appdata\\local\\programs\\python\\python312\\lib\\site-packages (from qiskit) (0.4.0)\n",
            "Requirement already satisfied: stevedore>=3.0.0 in c:\\users\\vinay\\appdata\\local\\programs\\python\\python312\\lib\\site-packages (from qiskit) (5.4.1)\n",
            "Requirement already satisfied: typing-extensions in c:\\users\\vinay\\appdata\\local\\programs\\python\\python312\\lib\\site-packages (from qiskit) (4.14.1)\n",
            "Requirement already satisfied: pbr>=2.0.0 in c:\\users\\vinay\\appdata\\local\\programs\\python\\python312\\lib\\site-packages (from stevedore>=3.0.0->qiskit) (6.1.1)\n",
            "Requirement already satisfied: setuptools in c:\\users\\vinay\\appdata\\local\\programs\\python\\python312\\lib\\site-packages (from pbr>=2.0.0->stevedore>=3.0.0->qiskit) (80.9.0)\n",
            "Requirement already satisfied: qiskit_aer in c:\\users\\vinay\\appdata\\local\\programs\\python\\python312\\lib\\site-packages (0.17.2)\n",
            "Requirement already satisfied: qiskit>=1.1.0 in c:\\users\\vinay\\appdata\\local\\programs\\python\\python312\\lib\\site-packages (from qiskit_aer) (2.1.1)\n",
            "Requirement already satisfied: numpy>=1.16.3 in c:\\users\\vinay\\appdata\\local\\programs\\python\\python312\\lib\\site-packages (from qiskit_aer) (2.3.2)\n",
            "Requirement already satisfied: scipy>=1.0 in c:\\users\\vinay\\appdata\\local\\programs\\python\\python312\\lib\\site-packages (from qiskit_aer) (1.16.1)\n",
            "Requirement already satisfied: psutil>=5 in c:\\users\\vinay\\appdata\\roaming\\python\\python312\\site-packages (from qiskit_aer) (6.1.1)\n",
            "Requirement already satisfied: python-dateutil>=2.8.0 in c:\\users\\vinay\\appdata\\roaming\\python\\python312\\site-packages (from qiskit_aer) (2.9.0.post0)\n",
            "Requirement already satisfied: six>=1.5 in c:\\users\\vinay\\appdata\\roaming\\python\\python312\\site-packages (from python-dateutil>=2.8.0->qiskit_aer) (1.17.0)\n",
            "Requirement already satisfied: rustworkx>=0.15.0 in c:\\users\\vinay\\appdata\\local\\programs\\python\\python312\\lib\\site-packages (from qiskit>=1.1.0->qiskit_aer) (0.16.0)\n",
            "Requirement already satisfied: dill>=0.3 in c:\\users\\vinay\\appdata\\local\\programs\\python\\python312\\lib\\site-packages (from qiskit>=1.1.0->qiskit_aer) (0.4.0)\n",
            "Requirement already satisfied: stevedore>=3.0.0 in c:\\users\\vinay\\appdata\\local\\programs\\python\\python312\\lib\\site-packages (from qiskit>=1.1.0->qiskit_aer) (5.4.1)\n",
            "Requirement already satisfied: typing-extensions in c:\\users\\vinay\\appdata\\local\\programs\\python\\python312\\lib\\site-packages (from qiskit>=1.1.0->qiskit_aer) (4.14.1)\n",
            "Requirement already satisfied: pbr>=2.0.0 in c:\\users\\vinay\\appdata\\local\\programs\\python\\python312\\lib\\site-packages (from stevedore>=3.0.0->qiskit>=1.1.0->qiskit_aer) (6.1.1)\n",
            "Requirement already satisfied: setuptools in c:\\users\\vinay\\appdata\\local\\programs\\python\\python312\\lib\\site-packages (from pbr>=2.0.0->stevedore>=3.0.0->qiskit>=1.1.0->qiskit_aer) (80.9.0)\n",
            "Requirement already satisfied: qiskit[visualization] in c:\\users\\vinay\\appdata\\local\\programs\\python\\python312\\lib\\site-packages (2.1.1)\n",
            "Requirement already satisfied: rustworkx>=0.15.0 in c:\\users\\vinay\\appdata\\local\\programs\\python\\python312\\lib\\site-packages (from qiskit[visualization]) (0.16.0)\n",
            "Requirement already satisfied: numpy<3,>=1.17 in c:\\users\\vinay\\appdata\\local\\programs\\python\\python312\\lib\\site-packages (from qiskit[visualization]) (2.3.2)\n",
            "Requirement already satisfied: scipy>=1.5 in c:\\users\\vinay\\appdata\\local\\programs\\python\\python312\\lib\\site-packages (from qiskit[visualization]) (1.16.1)\n",
            "Requirement already satisfied: dill>=0.3 in c:\\users\\vinay\\appdata\\local\\programs\\python\\python312\\lib\\site-packages (from qiskit[visualization]) (0.4.0)\n",
            "Requirement already satisfied: stevedore>=3.0.0 in c:\\users\\vinay\\appdata\\local\\programs\\python\\python312\\lib\\site-packages (from qiskit[visualization]) (5.4.1)\n",
            "Requirement already satisfied: typing-extensions in c:\\users\\vinay\\appdata\\local\\programs\\python\\python312\\lib\\site-packages (from qiskit[visualization]) (4.14.1)\n",
            "Requirement already satisfied: matplotlib>=3.3 in c:\\users\\vinay\\appdata\\local\\programs\\python\\python312\\lib\\site-packages (from qiskit[visualization]) (3.10.5)\n",
            "Requirement already satisfied: pydot in c:\\users\\vinay\\appdata\\local\\programs\\python\\python312\\lib\\site-packages (from qiskit[visualization]) (4.0.1)\n",
            "Requirement already satisfied: Pillow>=4.2.1 in c:\\users\\vinay\\appdata\\local\\programs\\python\\python312\\lib\\site-packages (from qiskit[visualization]) (11.3.0)\n",
            "Requirement already satisfied: pylatexenc>=1.4 in c:\\users\\vinay\\appdata\\local\\programs\\python\\python312\\lib\\site-packages (from qiskit[visualization]) (2.10)\n",
            "Requirement already satisfied: seaborn>=0.9.0 in c:\\users\\vinay\\appdata\\local\\programs\\python\\python312\\lib\\site-packages (from qiskit[visualization]) (0.13.2)\n",
            "Requirement already satisfied: sympy>=1.3 in c:\\users\\vinay\\appdata\\local\\programs\\python\\python312\\lib\\site-packages (from qiskit[visualization]) (1.14.0)\n",
            "Requirement already satisfied: contourpy>=1.0.1 in c:\\users\\vinay\\appdata\\local\\programs\\python\\python312\\lib\\site-packages (from matplotlib>=3.3->qiskit[visualization]) (1.3.3)\n",
            "Requirement already satisfied: cycler>=0.10 in c:\\users\\vinay\\appdata\\local\\programs\\python\\python312\\lib\\site-packages (from matplotlib>=3.3->qiskit[visualization]) (0.12.1)\n",
            "Requirement already satisfied: fonttools>=4.22.0 in c:\\users\\vinay\\appdata\\local\\programs\\python\\python312\\lib\\site-packages (from matplotlib>=3.3->qiskit[visualization]) (4.59.0)\n",
            "Requirement already satisfied: kiwisolver>=1.3.1 in c:\\users\\vinay\\appdata\\local\\programs\\python\\python312\\lib\\site-packages (from matplotlib>=3.3->qiskit[visualization]) (1.4.8)\n",
            "Requirement already satisfied: packaging>=20.0 in c:\\users\\vinay\\appdata\\local\\programs\\python\\python312\\lib\\site-packages (from matplotlib>=3.3->qiskit[visualization]) (23.2)\n",
            "Requirement already satisfied: pyparsing>=2.3.1 in c:\\users\\vinay\\appdata\\local\\programs\\python\\python312\\lib\\site-packages (from matplotlib>=3.3->qiskit[visualization]) (3.2.3)\n",
            "Requirement already satisfied: python-dateutil>=2.7 in c:\\users\\vinay\\appdata\\roaming\\python\\python312\\site-packages (from matplotlib>=3.3->qiskit[visualization]) (2.9.0.post0)\n",
            "Requirement already satisfied: six>=1.5 in c:\\users\\vinay\\appdata\\roaming\\python\\python312\\site-packages (from python-dateutil>=2.7->matplotlib>=3.3->qiskit[visualization]) (1.17.0)\n",
            "Requirement already satisfied: pandas>=1.2 in c:\\users\\vinay\\appdata\\local\\programs\\python\\python312\\lib\\site-packages (from seaborn>=0.9.0->qiskit[visualization]) (2.3.1)\n",
            "Requirement already satisfied: pytz>=2020.1 in c:\\users\\vinay\\appdata\\local\\programs\\python\\python312\\lib\\site-packages (from pandas>=1.2->seaborn>=0.9.0->qiskit[visualization]) (2025.2)\n",
            "Requirement already satisfied: tzdata>=2022.7 in c:\\users\\vinay\\appdata\\local\\programs\\python\\python312\\lib\\site-packages (from pandas>=1.2->seaborn>=0.9.0->qiskit[visualization]) (2025.2)\n",
            "Requirement already satisfied: pbr>=2.0.0 in c:\\users\\vinay\\appdata\\local\\programs\\python\\python312\\lib\\site-packages (from stevedore>=3.0.0->qiskit[visualization]) (6.1.1)\n",
            "Requirement already satisfied: setuptools in c:\\users\\vinay\\appdata\\local\\programs\\python\\python312\\lib\\site-packages (from pbr>=2.0.0->stevedore>=3.0.0->qiskit[visualization]) (80.9.0)\n",
            "Requirement already satisfied: mpmath<1.4,>=1.1.0 in c:\\users\\vinay\\appdata\\local\\programs\\python\\python312\\lib\\site-packages (from sympy>=1.3->qiskit[visualization]) (1.3.0)\n"
          ]
        }
      ],
      "source": [
        "!pip install qiskit\n",
        "!pip install qiskit_aer\n",
        "!pip install qiskit[visualization]"
      ]
    },
    {
      "cell_type": "code",
      "execution_count": 20,
      "metadata": {
        "id": "pFqygpS1Hccp"
      },
      "outputs": [],
      "source": [
        "from qiskit import QuantumCircuit, transpile\n",
        "from qiskit_aer import AerSimulator\n",
        "from qiskit.visualization import plot_histogram\n",
        "import math\n",
        "import matplotlib.pyplot as plt"
      ]
    },
    {
      "cell_type": "code",
      "execution_count": 21,
      "metadata": {
        "id": "lkrLy26w6Hns"
      },
      "outputs": [],
      "source": [
        "from qiskit import QuantumCircuit\n",
        "\n",
        "def oracle_for_value(n_qubits, values, search_value):\n",
        "    \"\"\"\n",
        "    Constructs an oracle which flips the phase of all indices\n",
        "    where the element in 'values' equals 'search_value'.\n",
        "    \"\"\"\n",
        "    oracle = QuantumCircuit(n_qubits, name='oracle')\n",
        "\n",
        "    # Mark all indices i where values[i] == search_value\n",
        "    for i, val in enumerate(values):\n",
        "        if val == search_value:\n",
        "            # --- This entire block must be indented ---\n",
        "\n",
        "            # Apply X gates on qubits where the bit of i is '0'\n",
        "            bits = format(i, f'0{n_qubits}b')\n",
        "            for qubit, bit in enumerate(reversed(bits)):\n",
        "                if bit == '0':\n",
        "                    oracle.x(qubit)\n",
        "\n",
        "            # Apply multi-controlled Z-gate (implemented with h, mcx, h)\n",
        "            oracle.h(n_qubits - 1)\n",
        "            oracle.mcx(list(range(n_qubits - 1)), n_qubits - 1)\n",
        "            oracle.h(n_qubits - 1)\n",
        "\n",
        "            # Uncompute the X gates to return to the original state\n",
        "            for qubit, bit in enumerate(reversed(bits)):\n",
        "                if bit == '0':\n",
        "                    oracle.x(qubit)\n",
        "\n",
        "            # Optional: Add a barrier for better visualization between marked items\n",
        "            oracle.barrier()\n",
        "\n",
        "    return oracle"
      ]
    },
    {
      "cell_type": "code",
      "execution_count": 22,
      "metadata": {
        "id": "bTc6zeWv6T9m"
      },
      "outputs": [],
      "source": [
        "def diffuser( n_qubits ):\n",
        "  diff = QuantumCircuit( n_qubits)\n",
        "  diff.h( range(n_qubits))\n",
        "  diff.x( range(n_qubits))\n",
        "  diff.h( n_qubits - 1 )\n",
        "  diff.mcx( list (range( n_qubits - 1 ) ), n_qubits - 1 )\n",
        "  diff.h( n_qubits - 1 )\n",
        "  diff.x( range( n_qubits ) )\n",
        "  diff.h( range( n_qubits ) )\n",
        "  return diff"
      ]
    },
    {
      "cell_type": "code",
      "execution_count": 23,
      "metadata": {
        "id": "oWM9rArV6cu1"
      },
      "outputs": [],
      "source": [
        "def run_grover( n_qubits, oracle, search_value_occurrences ):\n",
        "  iterations = math.floor( ( math.pi / 4 ) * math.sqrt( 2**n_qubits / search_value_occurrences ) )\n",
        "  qc = QuantumCircuit( n_qubits, n_qubits )\n",
        "  qc.h( range( n_qubits ) )\n",
        "  diff = diffuser( n_qubits )\n",
        "  for _ in range(iterations):\n",
        "    qc.compose( oracle, inplace = True )\n",
        "    qc.compose( diff, inplace = True )\n",
        "\n",
        "  qc.measure( range( n_qubits ), range( n_qubits ) )\n",
        "  simulator = AerSimulator()\n",
        "  compiled_circuit = transpile( qc, simulator )\n",
        "  result = simulator.run( compiled_circuit, shots=1024 ).result()\n",
        "  counts = result.get_counts()\n",
        "  return counts"
      ]
    },
    {
      "cell_type": "code",
      "execution_count": 24,
      "metadata": {
        "id": "kPOGBRGy68F7"
      },
      "outputs": [],
      "source": [
        "values = [4, 2, 5, 8, 7]\n",
        "search_value = 5"
      ]
    },
    {
      "cell_type": "code",
      "execution_count": 25,
      "metadata": {
        "colab": {
          "base_uri": "https://localhost:8080/",
          "height": 255
        },
        "id": "YPtYY4m789Gf",
        "outputId": "8c319228-93c3-4c86-ce38-ce1b0b382665"
      },
      "outputs": [
        {
          "data": {
            "image/png": "[encoded data removed]",
            "text/plain": [
              "<Figure size 621.941x284.278 with 1 Axes>"
            ]
          },
          "execution_count": 25,
          "metadata": {},
          "output_type": "execute_result"
        }
      ],
      "source": [
        "# Number of qubits to cover index range\n",
        "n_qubits = 3\n",
        "# Build oracle without target index knowledge\n",
        "oracle = oracle_for_value( n_qubits, values, search_value )\n",
        "oracle.draw(output='mpl')\n"
      ]
    },
    {
      "cell_type": "code",
      "execution_count": 26,
      "metadata": {
        "colab": {
          "base_uri": "https://localhost:8080/",
          "height": 573
        },
        "id": "t_80rfu96_L1",
        "outputId": "79f1bb57-c5d9-4370-bb32-9ab26e72bd36"
      },
      "outputs": [
        {
          "name": "stdout",
          "output_type": "stream",
          "text": [
            "Measurement counts (index of '5' showing high probability):\n",
            " {'010': 968, '000': 10, '011': 14, '110': 4, '111': 9, '100': 6, '101': 7, '001': 6}\n"
          ]
        },
        {
          "data": {
            "image/png": "[encoded data removed]",
            "text/plain": [
              "<Figure size 800x600 with 1 Axes>"
            ]
          },
          "metadata": {},
          "output_type": "display_data"
        }
      ],
      "source": [
        "\n",
        "\n",
        "# How many indices have search_value? In this example just one\n",
        "search_value_occurrences = 0\n",
        "for i in range( len( values ) ):\n",
        "  if values[ i ] == search_value:\n",
        "    search_value_occurrences += 1\n",
        "    counts = run_grover( n_qubits, oracle, search_value_occurrences )\n",
        "print( f\"Measurement counts (index of '{search_value}' showing high probability):\\n\", counts )\n",
        "fig, ax = plt.subplots( figsize = ( 8, 6 ) ) # Create figure and axis\n",
        "plot_histogram( counts, ax = ax )\n",
        "plt.show()"
      ]
    }
  ],
  "metadata": {
    "colab": {
      "provenance": []
    },
    "kernelspec": {
      "display_name": "Python 3",
      "name": "python3"
    },
    "language_info": {
      "codemirror_mode": {
        "name": "ipython",
        "version": 3
      },
      "file_extension": ".py",
      "mimetype": "text/x-python",
      "name": "python",
      "nbconvert_exporter": "python",
      "pygments_lexer": "ipython3",
      "version": "3.12.10"
    }
  },
  "nbformat": 4,
  "nbformat_minor": 0
}
