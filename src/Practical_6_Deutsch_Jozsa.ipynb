{
 "cells": [
  {
   "cell_type": "markdown",
   "id": "3cae0440",
   "metadata": {},
   "source": [
    "## Practical 6 - Deutsch Jozsa Alogrithm"
   ]
  },
  {
   "cell_type": "code",
   "execution_count": 1,
   "id": "a6732af2",
   "metadata": {},
   "outputs": [
    {
     "name": "stdout",
     "output_type": "stream",
     "text": [
      "Requirement already satisfied: qiskit in c:\\users\\vinay\\appdata\\local\\programs\\python\\python312\\lib\\site-packages (2.1.1)\n",
      "Requirement already satisfied: rustworkx>=0.15.0 in c:\\users\\vinay\\appdata\\local\\programs\\python\\python312\\lib\\site-packages (from qiskit) (0.16.0)\n",
      "Requirement already satisfied: numpy<3,>=1.17 in c:\\users\\vinay\\appdata\\local\\programs\\python\\python312\\lib\\site-packages (from qiskit) (2.3.2)\n",
      "Requirement already satisfied: scipy>=1.5 in c:\\users\\vinay\\appdata\\local\\programs\\python\\python312\\lib\\site-packages (from qiskit) (1.16.1)\n",
      "Requirement already satisfied: dill>=0.3 in c:\\users\\vinay\\appdata\\local\\programs\\python\\python312\\lib\\site-packages (from qiskit) (0.4.0)\n",
      "Requirement already satisfied: stevedore>=3.0.0 in c:\\users\\vinay\\appdata\\local\\programs\\python\\python312\\lib\\site-packages (from qiskit) (5.4.1)\n",
      "Requirement already satisfied: typing-extensions in c:\\users\\vinay\\appdata\\local\\programs\\python\\python312\\lib\\site-packages (from qiskit) (4.14.1)\n",
      "Requirement already satisfied: pbr>=2.0.0 in c:\\users\\vinay\\appdata\\local\\programs\\python\\python312\\lib\\site-packages (from stevedore>=3.0.0->qiskit) (6.1.1)\n",
      "Requirement already satisfied: setuptools in c:\\users\\vinay\\appdata\\local\\programs\\python\\python312\\lib\\site-packages (from pbr>=2.0.0->stevedore>=3.0.0->qiskit) (80.9.0)\n",
      "Requirement already satisfied: qiskit_aer in c:\\users\\vinay\\appdata\\local\\programs\\python\\python312\\lib\\site-packages (0.17.2)\n",
      "Requirement already satisfied: qiskit>=1.1.0 in c:\\users\\vinay\\appdata\\local\\programs\\python\\python312\\lib\\site-packages (from qiskit_aer) (2.1.1)\n",
      "Requirement already satisfied: numpy>=1.16.3 in c:\\users\\vinay\\appdata\\local\\programs\\python\\python312\\lib\\site-packages (from qiskit_aer) (2.3.2)\n",
      "Requirement already satisfied: scipy>=1.0 in c:\\users\\vinay\\appdata\\local\\programs\\python\\python312\\lib\\site-packages (from qiskit_aer) (1.16.1)\n",
      "Requirement already satisfied: psutil>=5 in c:\\users\\vinay\\appdata\\roaming\\python\\python312\\site-packages (from qiskit_aer) (6.1.1)\n",
      "Requirement already satisfied: python-dateutil>=2.8.0 in c:\\users\\vinay\\appdata\\roaming\\python\\python312\\site-packages (from qiskit_aer) (2.9.0.post0)\n",
      "Requirement already satisfied: six>=1.5 in c:\\users\\vinay\\appdata\\roaming\\python\\python312\\site-packages (from python-dateutil>=2.8.0->qiskit_aer) (1.17.0)\n",
      "Requirement already satisfied: rustworkx>=0.15.0 in c:\\users\\vinay\\appdata\\local\\programs\\python\\python312\\lib\\site-packages (from qiskit>=1.1.0->qiskit_aer) (0.16.0)\n",
      "Requirement already satisfied: dill>=0.3 in c:\\users\\vinay\\appdata\\local\\programs\\python\\python312\\lib\\site-packages (from qiskit>=1.1.0->qiskit_aer) (0.4.0)\n",
      "Requirement already satisfied: stevedore>=3.0.0 in c:\\users\\vinay\\appdata\\local\\programs\\python\\python312\\lib\\site-packages (from qiskit>=1.1.0->qiskit_aer) (5.4.1)\n",
      "Requirement already satisfied: typing-extensions in c:\\users\\vinay\\appdata\\local\\programs\\python\\python312\\lib\\site-packages (from qiskit>=1.1.0->qiskit_aer) (4.14.1)\n",
      "Requirement already satisfied: pbr>=2.0.0 in c:\\users\\vinay\\appdata\\local\\programs\\python\\python312\\lib\\site-packages (from stevedore>=3.0.0->qiskit>=1.1.0->qiskit_aer) (6.1.1)\n",
      "Requirement already satisfied: setuptools in c:\\users\\vinay\\appdata\\local\\programs\\python\\python312\\lib\\site-packages (from pbr>=2.0.0->stevedore>=3.0.0->qiskit>=1.1.0->qiskit_aer) (80.9.0)\n",
      "Requirement already satisfied: qiskit[visualization] in c:\\users\\vinay\\appdata\\local\\programs\\python\\python312\\lib\\site-packages (2.1.1)\n",
      "Requirement already satisfied: rustworkx>=0.15.0 in c:\\users\\vinay\\appdata\\local\\programs\\python\\python312\\lib\\site-packages (from qiskit[visualization]) (0.16.0)\n",
      "Requirement already satisfied: numpy<3,>=1.17 in c:\\users\\vinay\\appdata\\local\\programs\\python\\python312\\lib\\site-packages (from qiskit[visualization]) (2.3.2)\n",
      "Requirement already satisfied: scipy>=1.5 in c:\\users\\vinay\\appdata\\local\\programs\\python\\python312\\lib\\site-packages (from qiskit[visualization]) (1.16.1)\n",
      "Requirement already satisfied: dill>=0.3 in c:\\users\\vinay\\appdata\\local\\programs\\python\\python312\\lib\\site-packages (from qiskit[visualization]) (0.4.0)\n",
      "Requirement already satisfied: stevedore>=3.0.0 in c:\\users\\vinay\\appdata\\local\\programs\\python\\python312\\lib\\site-packages (from qiskit[visualization]) (5.4.1)\n",
      "Requirement already satisfied: typing-extensions in c:\\users\\vinay\\appdata\\local\\programs\\python\\python312\\lib\\site-packages (from qiskit[visualization]) (4.14.1)\n",
      "Requirement already satisfied: matplotlib>=3.3 in c:\\users\\vinay\\appdata\\local\\programs\\python\\python312\\lib\\site-packages (from qiskit[visualization]) (3.10.5)\n",
      "Requirement already satisfied: pydot in c:\\users\\vinay\\appdata\\local\\programs\\python\\python312\\lib\\site-packages (from qiskit[visualization]) (4.0.1)\n",
      "Requirement already satisfied: Pillow>=4.2.1 in c:\\users\\vinay\\appdata\\local\\programs\\python\\python312\\lib\\site-packages (from qiskit[visualization]) (11.3.0)\n",
      "Requirement already satisfied: pylatexenc>=1.4 in c:\\users\\vinay\\appdata\\local\\programs\\python\\python312\\lib\\site-packages (from qiskit[visualization]) (2.10)\n",
      "Requirement already satisfied: seaborn>=0.9.0 in c:\\users\\vinay\\appdata\\local\\programs\\python\\python312\\lib\\site-packages (from qiskit[visualization]) (0.13.2)\n",
      "Requirement already satisfied: sympy>=1.3 in c:\\users\\vinay\\appdata\\local\\programs\\python\\python312\\lib\\site-packages (from qiskit[visualization]) (1.14.0)\n",
      "Requirement already satisfied: contourpy>=1.0.1 in c:\\users\\vinay\\appdata\\local\\programs\\python\\python312\\lib\\site-packages (from matplotlib>=3.3->qiskit[visualization]) (1.3.3)\n",
      "Requirement already satisfied: cycler>=0.10 in c:\\users\\vinay\\appdata\\local\\programs\\python\\python312\\lib\\site-packages (from matplotlib>=3.3->qiskit[visualization]) (0.12.1)\n",
      "Requirement already satisfied: fonttools>=4.22.0 in c:\\users\\vinay\\appdata\\local\\programs\\python\\python312\\lib\\site-packages (from matplotlib>=3.3->qiskit[visualization]) (4.59.0)\n",
      "Requirement already satisfied: kiwisolver>=1.3.1 in c:\\users\\vinay\\appdata\\local\\programs\\python\\python312\\lib\\site-packages (from matplotlib>=3.3->qiskit[visualization]) (1.4.8)\n",
      "Requirement already satisfied: packaging>=20.0 in c:\\users\\vinay\\appdata\\local\\programs\\python\\python312\\lib\\site-packages (from matplotlib>=3.3->qiskit[visualization]) (23.2)\n",
      "Requirement already satisfied: pyparsing>=2.3.1 in c:\\users\\vinay\\appdata\\local\\programs\\python\\python312\\lib\\site-packages (from matplotlib>=3.3->qiskit[visualization]) (3.2.3)\n",
      "Requirement already satisfied: python-dateutil>=2.7 in c:\\users\\vinay\\appdata\\roaming\\python\\python312\\site-packages (from matplotlib>=3.3->qiskit[visualization]) (2.9.0.post0)\n",
      "Requirement already satisfied: six>=1.5 in c:\\users\\vinay\\appdata\\roaming\\python\\python312\\site-packages (from python-dateutil>=2.7->matplotlib>=3.3->qiskit[visualization]) (1.17.0)\n",
      "Requirement already satisfied: pandas>=1.2 in c:\\users\\vinay\\appdata\\local\\programs\\python\\python312\\lib\\site-packages (from seaborn>=0.9.0->qiskit[visualization]) (2.3.1)\n",
      "Requirement already satisfied: pytz>=2020.1 in c:\\users\\vinay\\appdata\\local\\programs\\python\\python312\\lib\\site-packages (from pandas>=1.2->seaborn>=0.9.0->qiskit[visualization]) (2025.2)\n",
      "Requirement already satisfied: tzdata>=2022.7 in c:\\users\\vinay\\appdata\\local\\programs\\python\\python312\\lib\\site-packages (from pandas>=1.2->seaborn>=0.9.0->qiskit[visualization]) (2025.2)\n",
      "Requirement already satisfied: pbr>=2.0.0 in c:\\users\\vinay\\appdata\\local\\programs\\python\\python312\\lib\\site-packages (from stevedore>=3.0.0->qiskit[visualization]) (6.1.1)\n",
      "Requirement already satisfied: setuptools in c:\\users\\vinay\\appdata\\local\\programs\\python\\python312\\lib\\site-packages (from pbr>=2.0.0->stevedore>=3.0.0->qiskit[visualization]) (80.9.0)\n",
      "Requirement already satisfied: mpmath<1.4,>=1.1.0 in c:\\users\\vinay\\appdata\\local\\programs\\python\\python312\\lib\\site-packages (from sympy>=1.3->qiskit[visualization]) (1.3.0)\n"
     ]
    }
   ],
   "source": [
    "!pip install qiskit\n",
    "!pip install qiskit_aer\n",
    "!pip install qiskit[visualization]"
   ]
  },
  {
   "cell_type": "code",
   "execution_count": 2,
   "id": "a1f30099",
   "metadata": {},
   "outputs": [],
   "source": [
    "from qiskit import QuantumCircuit\n",
    "from qiskit_aer import AerSimulator\n",
    "from qiskit.visualization import plot_histogram"
   ]
  },
  {
   "cell_type": "code",
   "execution_count": 3,
   "id": "44c5bdac",
   "metadata": {},
   "outputs": [],
   "source": [
    "def dj_oracle( n, balanced = True ):\n",
    "    oracle = QuantumCircuit ( n + 1 )\n",
    "    if balanced:\n",
    "        for qubit in range( n ):\n",
    "            oracle.cx( qubit, n )\n",
    "    else:\n",
    "        pass\n",
    "    return oracle"
   ]
  },
  {
   "cell_type": "code",
   "execution_count": 4,
   "id": "09721e3e",
   "metadata": {},
   "outputs": [],
   "source": [
    "def deutsch_joza( n, oracle ):\n",
    "    circuit = QuantumCircuit( n+1, n )\n",
    "    circuit.x( n )\n",
    "    circuit.h( n )\n",
    "    circuit.h( range( n ) )\n",
    "    circuit.compose( oracle, inplace = True )\n",
    "    circuit.h( range( n ) )\n",
    "    circuit.measure( range( n ), range( n ) )\n",
    "    return circuit"
   ]
  },
  {
   "cell_type": "code",
   "execution_count": 5,
   "id": "58f0bfc4",
   "metadata": {},
   "outputs": [
    {
     "name": "stdout",
     "output_type": "stream",
     "text": [
      "Measurement results: {'111': 1024}\n",
      "Function is balanced.\n"
     ]
    },
    {
     "data": {
      "image/png": "[encoded data removed]",
      "text/plain": [
       "<Figure size 640x480 with 1 Axes>"
      ]
     },
     "execution_count": 5,
     "metadata": {},
     "output_type": "execute_result"
    }
   ],
   "source": [
    "n = 3\n",
    "oracle = dj_oracle( n, balanced = True )\n",
    "dj_circuit = deutsch_joza( n, oracle )\n",
    "\n",
    "# Use AerSimulator from qiskit_aer\n",
    "simulator = AerSimulator()\n",
    "\n",
    "job = simulator.run( dj_circuit, shots = 1024 )\n",
    "result = job.result()\n",
    "counts = result.get_counts()\n",
    "\n",
    "print( \"Measurement results:\", counts )\n",
    "\n",
    "if '0'*n in counts:\n",
    "    print( \"Function is constant.\" )\n",
    "else:\n",
    "    print( \"Function is balanced.\" )\n",
    "\n",
    "dj_circuit.draw( \"mpl\")\n",
    "result = job.result()\n",
    "\n",
    "dj_circuit.draw( \"mpl\")\n",
    "plot_histogram( counts )"
   ]
  }
 ],
 "metadata": {
  "kernelspec": {
   "display_name": "Python 3",
   "language": "python",
   "name": "python3"
  },
  "language_info": {
   "codemirror_mode": {
    "name": "ipython",
    "version": 3
   },
   "file_extension": ".py",
   "mimetype": "text/x-python",
   "name": "python",
   "nbconvert_exporter": "python",
   "pygments_lexer": "ipython3",
   "version": "3.12.10"
  }
 },
 "nbformat": 4,
 "nbformat_minor": 5
}
