{
 "cells": [
  {
   "cell_type": "code",
   "execution_count": null,
   "metadata": {
    "colab": {
     "base_uri": "https://localhost:8080/"
    },
    "executionInfo": {
     "elapsed": 14554,
     "status": "ok",
     "timestamp": 1761192303166,
     "user": {
      "displayName": "THAI JAYANI KRISHNA B Tech 23",
      "userId": "13895106491461237308"
     },
     "user_tz": -330
    },
    "id": "et_I6yhzN7wl",
    "outputId": "1fa8eafd-2fd7-4cc8-97f5-a236a7928a51"
   },
   "outputs": [],
   "source": [
    "!pip install qiskit\n",
    "!pip install qiskit_aer\n",
    "!pip! install qiskit[quantum_info]"
   ]
  },
  {
   "cell_type": "code",
   "execution_count": null,
   "metadata": {
    "id": "qvUX7mfSOOBl"
   },
   "outputs": [],
   "source": [
    "from qiskit import QuantumCircuit, transpile\n",
    "from qiskit_aer import AerSimulator"
   ]
  },
  {
   "cell_type": "code",
   "execution_count": null,
   "metadata": {
    "colab": {
     "base_uri": "https://localhost:8080/"
    },
    "executionInfo": {
     "elapsed": 26,
     "status": "ok",
     "timestamp": 1761192303697,
     "user": {
      "displayName": "THAI JAYANI KRISHNA B Tech 23",
      "userId": "13895106491461237308"
     },
     "user_tz": -330
    },
    "id": "yMDzBt3zPuvf",
    "outputId": "a2d7e665-156a-4dab-8420-95957ac01314"
   },
   "outputs": [
    {
     "data": {
      "text/plain": [
       "<qiskit.circuit.instructionset.InstructionSet at 0x7f297e6c1360>"
      ]
     },
     "execution_count": 6,
     "metadata": {},
     "output_type": "execute_result"
    }
   ],
   "source": [
    "qc = QuantumCircuit(2)\n",
    "qc.h(0)\n",
    "qc.cx(0,1)\n",
    "\n",
    "qc.save_density_matrix()"
   ]
  },
  {
   "cell_type": "code",
   "execution_count": null,
   "metadata": {
    "colab": {
     "base_uri": "https://localhost:8080/"
    },
    "executionInfo": {
     "elapsed": 21,
     "status": "ok",
     "timestamp": 1761192303722,
     "user": {
      "displayName": "THAI JAYANI KRISHNA B Tech 23",
      "userId": "13895106491461237308"
     },
     "user_tz": -330
    },
    "id": "ER2ZlM30Oup2",
    "outputId": "033ceabc-4641-4240-fab8-29c195cc72ab"
   },
   "outputs": [
    {
     "name": "stdout",
     "output_type": "stream",
     "text": [
      "Density matrix of bell state:\n",
      "DensityMatrix([[0.5+0.j, 0. +0.j, 0. +0.j, 0.5+0.j],\n",
      "               [0. +0.j, 0. +0.j, 0. +0.j, 0. +0.j],\n",
      "               [0. +0.j, 0. +0.j, 0. +0.j, 0. +0.j],\n",
      "               [0.5+0.j, 0. +0.j, 0. +0.j, 0.5+0.j]],\n",
      "              dims=(2, 2))\n"
     ]
    }
   ],
   "source": [
    "sim = AerSimulator(method = \"density_matrix\")\n",
    "\n",
    "tcirc = transpile(qc, sim)\n",
    "res = sim.run(tcirc).result()\n",
    "density_matrix = res.data(0)['density_matrix']\n",
    "\n",
    "print (\"Density matrix of bell state:\")\n",
    "print(density_matrix)"
   ]
  },
  {
   "cell_type": "code",
   "execution_count": null,
   "metadata": {
    "id": "UJgAD6cAPt2k"
   },
   "outputs": [],
   "source": [
    "from qiskit import QuantumCircuit\n",
    "from qiskit_aer import AerSimulator\n",
    "from qiskit.quantum_info import DensityMatrix, partial_trace, entropy"
   ]
  },
  {
   "cell_type": "code",
   "execution_count": null,
   "metadata": {
    "colab": {
     "base_uri": "https://localhost:8080/"
    },
    "executionInfo": {
     "elapsed": 9,
     "status": "ok",
     "timestamp": 1761192303739,
     "user": {
      "displayName": "THAI JAYANI KRISHNA B Tech 23",
      "userId": "13895106491461237308"
     },
     "user_tz": -330
    },
    "id": "AVcVgL52SV7S",
    "outputId": "4105b08c-416a-482c-c674-6eb109a83eef"
   },
   "outputs": [
    {
     "data": {
      "text/plain": [
       "<qiskit.circuit.instructionset.InstructionSet at 0x7f297cb1baf0>"
      ]
     },
     "execution_count": 9,
     "metadata": {},
     "output_type": "execute_result"
    }
   ],
   "source": [
    "qc = QuantumCircuit(2)\n",
    "qc.h(0)\n",
    "qc.cx(0,1)\n",
    "qc.save_density_matrix()"
   ]
  },
  {
   "cell_type": "code",
   "execution_count": null,
   "metadata": {
    "id": "qY9DkDC7TP8b"
   },
   "outputs": [],
   "source": [
    "sim = AerSimulator( method = \"density_matrix\" )\n",
    "result = sim.run(qc).result()\n",
    "dm = result.data(0)[ \"density_matrix\" ]"
   ]
  },
  {
   "cell_type": "code",
   "execution_count": null,
   "metadata": {
    "id": "5TxXUI2jTTZ3"
   },
   "outputs": [],
   "source": [
    "# Create DensityMatrix object of full system\n",
    "rho = DensityMatrix( dm )\n",
    "# Compute reduced density matrix of qubit-0 by tracing out qubit-1\n",
    "reduced_rho = partial_trace( rho, [1] )\n",
    "# Calculate von Neumann entropy of the reduced state"
   ]
  },
  {
   "cell_type": "code",
   "execution_count": null,
   "metadata": {
    "colab": {
     "base_uri": "https://localhost:8080/"
    },
    "executionInfo": {
     "elapsed": 49,
     "status": "ok",
     "timestamp": 1761192303848,
     "user": {
      "displayName": "THAI JAYANI KRISHNA B Tech 23",
      "userId": "13895106491461237308"
     },
     "user_tz": -330
    },
    "id": "GUWES08oPoUs",
    "outputId": "0caa262d-8b2f-4d45-9f7e-4f77ba868801"
   },
   "outputs": [
    {
     "name": "stdout",
     "output_type": "stream",
     "text": [
      "Entropy of which two qubits system (bits):  4.199997326979098e-15\n",
      "Entropy of which two qubits system (bits):  1.0\n"
     ]
    }
   ],
   "source": [
    "S_whole = entropy (rho, base = 2)\n",
    "S_single = entropy( reduced_rho,base = 2)\n",
    "\n",
    "print(\"Entropy of which two qubits system (bits): \", S_whole)\n",
    "print(\"Entropy of which two qubits system (bits): \", S_single)"
   ]
  },
  {
   "cell_type": "code",
   "execution_count": null,
   "metadata": {
    "colab": {
     "base_uri": "https://localhost:8080/"
    },
    "executionInfo": {
     "elapsed": 13654,
     "status": "ok",
     "timestamp": 1761192317517,
     "user": {
      "displayName": "THAI JAYANI KRISHNA B Tech 23",
      "userId": "13895106491461237308"
     },
     "user_tz": -330
    },
    "id": "jVBKO-FUTGV5",
    "outputId": "7668faf9-466e-4e9b-ad60-1aba12553a48"
   },
   "outputs": [
    {
     "name": "stdout",
     "output_type": "stream",
     "text": [
      "Requirement already satisfied: qiskit in /usr/local/lib/python3.12/dist-packages (2.2.2)\n",
      "Requirement already satisfied: rustworkx>=0.15.0 in /usr/local/lib/python3.12/dist-packages (from qiskit) (0.17.1)\n",
      "Requirement already satisfied: numpy<3,>=1.17 in /usr/local/lib/python3.12/dist-packages (from qiskit) (2.0.2)\n",
      "Requirement already satisfied: scipy>=1.5 in /usr/local/lib/python3.12/dist-packages (from qiskit) (1.16.2)\n",
      "Requirement already satisfied: dill>=0.3 in /usr/local/lib/python3.12/dist-packages (from qiskit) (0.3.8)\n",
      "Requirement already satisfied: stevedore>=3.0.0 in /usr/local/lib/python3.12/dist-packages (from qiskit) (5.5.0)\n",
      "Requirement already satisfied: typing-extensions in /usr/local/lib/python3.12/dist-packages (from qiskit) (4.15.0)\n",
      "Requirement already satisfied: qiskit_aer in /usr/local/lib/python3.12/dist-packages (0.17.2)\n",
      "Requirement already satisfied: qiskit>=1.1.0 in /usr/local/lib/python3.12/dist-packages (from qiskit_aer) (2.2.2)\n",
      "Requirement already satisfied: numpy>=1.16.3 in /usr/local/lib/python3.12/dist-packages (from qiskit_aer) (2.0.2)\n",
      "Requirement already satisfied: scipy>=1.0 in /usr/local/lib/python3.12/dist-packages (from qiskit_aer) (1.16.2)\n",
      "Requirement already satisfied: psutil>=5 in /usr/local/lib/python3.12/dist-packages (from qiskit_aer) (5.9.5)\n",
      "Requirement already satisfied: python-dateutil>=2.8.0 in /usr/local/lib/python3.12/dist-packages (from qiskit_aer) (2.9.0.post0)\n",
      "Requirement already satisfied: six>=1.5 in /usr/local/lib/python3.12/dist-packages (from python-dateutil>=2.8.0->qiskit_aer) (1.17.0)\n",
      "Requirement already satisfied: rustworkx>=0.15.0 in /usr/local/lib/python3.12/dist-packages (from qiskit>=1.1.0->qiskit_aer) (0.17.1)\n",
      "Requirement already satisfied: dill>=0.3 in /usr/local/lib/python3.12/dist-packages (from qiskit>=1.1.0->qiskit_aer) (0.3.8)\n",
      "Requirement already satisfied: stevedore>=3.0.0 in /usr/local/lib/python3.12/dist-packages (from qiskit>=1.1.0->qiskit_aer) (5.5.0)\n",
      "Requirement already satisfied: typing-extensions in /usr/local/lib/python3.12/dist-packages (from qiskit>=1.1.0->qiskit_aer) (4.15.0)\n",
      "Requirement already satisfied: qiskit[visualization] in /usr/local/lib/python3.12/dist-packages (2.2.2)\n",
      "Requirement already satisfied: rustworkx>=0.15.0 in /usr/local/lib/python3.12/dist-packages (from qiskit[visualization]) (0.17.1)\n",
      "Requirement already satisfied: numpy<3,>=1.17 in /usr/local/lib/python3.12/dist-packages (from qiskit[visualization]) (2.0.2)\n",
      "Requirement already satisfied: scipy>=1.5 in /usr/local/lib/python3.12/dist-packages (from qiskit[visualization]) (1.16.2)\n",
      "Requirement already satisfied: dill>=0.3 in /usr/local/lib/python3.12/dist-packages (from qiskit[visualization]) (0.3.8)\n",
      "Requirement already satisfied: stevedore>=3.0.0 in /usr/local/lib/python3.12/dist-packages (from qiskit[visualization]) (5.5.0)\n",
      "Requirement already satisfied: typing-extensions in /usr/local/lib/python3.12/dist-packages (from qiskit[visualization]) (4.15.0)\n",
      "Requirement already satisfied: matplotlib>=3.3 in /usr/local/lib/python3.12/dist-packages (from qiskit[visualization]) (3.10.0)\n",
      "Requirement already satisfied: pydot in /usr/local/lib/python3.12/dist-packages (from qiskit[visualization]) (3.0.4)\n",
      "Requirement already satisfied: Pillow>=4.2.1 in /usr/local/lib/python3.12/dist-packages (from qiskit[visualization]) (11.3.0)\n",
      "Collecting pylatexenc>=1.4 (from qiskit[visualization])\n",
      "  Downloading pylatexenc-2.10.tar.gz (162 kB)\n",
      "\u001b[2K     \u001b[90m━━━━━━━━━━━━━━━━━━━━━━━━━━━━━━━━━━━━━━━\u001b[0m \u001b[32m162.6/162.6 kB\u001b[0m \u001b[31m3.9 MB/s\u001b[0m eta \u001b[36m0:00:00\u001b[0m\n",
      "\u001b[?25h  Preparing metadata (setup.py) ... \u001b[?25l\u001b[?25hdone\n",
      "Requirement already satisfied: seaborn>=0.9.0 in /usr/local/lib/python3.12/dist-packages (from qiskit[visualization]) (0.13.2)\n",
      "Requirement already satisfied: sympy>=1.3 in /usr/local/lib/python3.12/dist-packages (from qiskit[visualization]) (1.13.3)\n",
      "Requirement already satisfied: contourpy>=1.0.1 in /usr/local/lib/python3.12/dist-packages (from matplotlib>=3.3->qiskit[visualization]) (1.3.3)\n",
      "Requirement already satisfied: cycler>=0.10 in /usr/local/lib/python3.12/dist-packages (from matplotlib>=3.3->qiskit[visualization]) (0.12.1)\n",
      "Requirement already satisfied: fonttools>=4.22.0 in /usr/local/lib/python3.12/dist-packages (from matplotlib>=3.3->qiskit[visualization]) (4.60.1)\n",
      "Requirement already satisfied: kiwisolver>=1.3.1 in /usr/local/lib/python3.12/dist-packages (from matplotlib>=3.3->qiskit[visualization]) (1.4.9)\n",
      "Requirement already satisfied: packaging>=20.0 in /usr/local/lib/python3.12/dist-packages (from matplotlib>=3.3->qiskit[visualization]) (25.0)\n",
      "Requirement already satisfied: pyparsing>=2.3.1 in /usr/local/lib/python3.12/dist-packages (from matplotlib>=3.3->qiskit[visualization]) (3.2.5)\n",
      "Requirement already satisfied: python-dateutil>=2.7 in /usr/local/lib/python3.12/dist-packages (from matplotlib>=3.3->qiskit[visualization]) (2.9.0.post0)\n",
      "Requirement already satisfied: pandas>=1.2 in /usr/local/lib/python3.12/dist-packages (from seaborn>=0.9.0->qiskit[visualization]) (2.2.2)\n",
      "Requirement already satisfied: mpmath<1.4,>=1.1.0 in /usr/local/lib/python3.12/dist-packages (from sympy>=1.3->qiskit[visualization]) (1.3.0)\n",
      "Requirement already satisfied: pytz>=2020.1 in /usr/local/lib/python3.12/dist-packages (from pandas>=1.2->seaborn>=0.9.0->qiskit[visualization]) (2025.2)\n",
      "Requirement already satisfied: tzdata>=2022.7 in /usr/local/lib/python3.12/dist-packages (from pandas>=1.2->seaborn>=0.9.0->qiskit[visualization]) (2025.2)\n",
      "Requirement already satisfied: six>=1.5 in /usr/local/lib/python3.12/dist-packages (from python-dateutil>=2.7->matplotlib>=3.3->qiskit[visualization]) (1.17.0)\n",
      "Building wheels for collected packages: pylatexenc\n",
      "  Building wheel for pylatexenc (setup.py) ... \u001b[?25l\u001b[?25hdone\n",
      "  Created wheel for pylatexenc: filename=pylatexenc-2.10-py3-none-any.whl size=136817 sha256=51b133254700168ccaf02e191efa6b65897dde86f4ed636c24b35b1f8f53af79\n",
      "  Stored in directory: /root/.cache/pip/wheels/06/3e/78/fa1588c1ae991bbfd814af2bcac6cef7a178beee1939180d46\n",
      "Successfully built pylatexenc\n",
      "Installing collected packages: pylatexenc\n",
      "Successfully installed pylatexenc-2.10\n"
     ]
    }
   ],
   "source": [
    "!pip install qiskit\n",
    "!pip install qiskit_aer\n",
    "!pip install qiskit[visualization]"
   ]
  },
  {
   "cell_type": "code",
   "execution_count": null,
   "metadata": {
    "id": "x0nE0URzLsg5"
   },
   "outputs": [],
   "source": [
    "from qiskit import QuantumCircuit, transpile\n",
    "from qiskit_aer import AerSimulator\n",
    "from qiskit.visualization import plot_histogram\n",
    "import matplotlib.pyplot as plt\n",
    "\n",
    "def bit_flip_code_with_syndrome( bit_flip_error = False, error_qubit = 1):\n",
    "  qc = QuantumCircuit( 5,2 )\n",
    "  qc.h(0)\n",
    "  qc.barrier()\n",
    "\n",
    "  qc.cx( 0,1 )\n",
    "  qc.cx( 0,2 )\n",
    "  qc.barrier()\n",
    "\n",
    "  if bit_flip_error:\n",
    "    qc.x( error_qubit )\n",
    "  qc.barrier()\n",
    "\n",
    "  #syndrome measurement\n",
    "  qc.cx( 0,3 )\n",
    "  qc.cx( 1,3 )\n",
    "\n",
    "  qc.cx( 1,4 )\n",
    "  qc.cx( 2,4 )\n",
    "\n",
    "  qc.measure( [3,4] ,[1,2] )"
   ]
  },
  {
   "cell_type": "code",
   "execution_count": null,
   "metadata": {
    "id": "_CAQN8OIMeJV"
   },
   "outputs": [],
   "source": [
    "def bit_flip_code_with_syndrome( bit_flip_error = False, error_qubit = 1):\n",
    "  qc = QuantumCircuit( 5,2 )\n",
    "  qc.h(0)\n",
    "  qc.barrier()\n",
    "\n",
    "  qc.cx( 0,2 )\n",
    "  qc.cx( 0,2 )\n",
    "  qc.barrier()\n",
    "\n",
    "  qc.h([0,1,2])\n",
    "\n",
    "  if bit_flip_error:\n",
    "    qc.x( error_qubit )\n",
    "  qc.barrier()\n",
    "\n",
    "  qc.h([0,1,2])\n",
    "\n",
    "  #syndrome measurement\n",
    "  qc.cx( 0,3 )\n",
    "  qc.cx( 1,3 )\n",
    "  qc.cx( 1,4 )\n",
    "  qc.cx( 2,4 )\n",
    "\n",
    "  qc.measure( [3,4] ,[1,2] )\n",
    "\n",
    "  Simulator = AerSimulator()\n",
    "\n",
    "  qc_phase_flip = phase_flip_code_with_syndrome(phase_flip_error = True, error_qubit = 1)\n",
    "  compiled_phase = transpile( qc_phase_flip, simulator )\n",
    "  result_phase_flip = simulator.run( compiled_phase_flip, shots = 1024 ).result()\n",
    "  counts_phase_flip = result_phase_flip.get_counts()\n",
    "\n",
    "  fig, axs = plt.subplots(1,2, figsize = (12,4))\n",
    "  plot_histogram( counts_bit_flip,\n",
    "                 ax = axs[0],\n",
    "                  title = \"Phase flip code syndrome\")\n",
    "\n",
    "  plt.show()"
   ]
  },
  {
   "cell_type": "code",
   "execution_count": null,
   "metadata": {
    "id": "EeO4f7T5NFCc"
   },
   "outputs": [],
   "source": [
    "from qiskit.visualization import plot_histogram\n",
    "from qiskit_aer import AerSimulator\n",
    "from qiskit import QuantumCircuit, transpile\n",
    "import numpy as np\n",
    "import matplotlib.pyplot as plt"
   ]
  },
  {
   "cell_type": "code",
   "execution_count": null,
   "metadata": {
    "id": "D_5l-dN9OZVT"
   },
   "outputs": [],
   "source": [
    "def mach_zehnder_interferometer(phase_shift = 0):\n",
    "    qc = QuantumCircuit(1, 1)\n",
    "    qc.h(0)\n",
    "    qc.rz(phase_shift, 0)\n",
    "    qc.h(0)\n",
    "    qc.measure(0, 0)\n",
    "    return qc"
   ]
  },
  {
   "cell_type": "code",
   "execution_count": null,
   "metadata": {
    "colab": {
     "base_uri": "https://localhost:8080/"
    },
    "executionInfo": {
     "elapsed": 1109,
     "status": "ok",
     "timestamp": 1761192810571,
     "user": {
      "displayName": "THAI JAYANI KRISHNA B Tech 23",
      "userId": "13895106491461237308"
     },
     "user_tz": -330
    },
    "id": "clwZqnQaPUXu",
    "outputId": "3263c448-aa9a-4bb6-864d-a3dc01b6829a"
   },
   "outputs": [
    {
     "name": "stdout",
     "output_type": "stream",
     "text": [
      "Phase shift: 0.00\n",
      "Phase shift: 0.70\n",
      "Phase shift: 1.40\n",
      "Phase shift: 2.09\n",
      "Phase shift: 2.79\n",
      "Phase shift: 3.49\n",
      "Phase shift: 4.19\n",
      "Phase shift: 4.89\n",
      "Phase shift: 5.59\n",
      "Phase shift: 6.28\n"
     ]
    }
   ],
   "source": [
    "simulator = AerSimulator()\n",
    "\n",
    "phase_shifts = np.linspace(0, 2 * np.pi, 10)\n",
    "results = []\n",
    "legend_labels = []\n",
    "for phase_shift in phase_shifts:\n",
    "    qc = mach_zehnder_interferometer(phase_shift = phase_shift)\n",
    "    compiled_circuit = transpile(qc, simulator)\n",
    "    job = simulator.run(compiled_circuit, shots = 1024)\n",
    "    counts = job.result().get_counts()\n",
    "    results.append(counts)\n",
    "    legend_labels.append(f\"Phase shift: {phase_shift:.2f}\")\n",
    "    print(f\"Phase shift: {phase_shift:.2f}\")"
   ]
  },
  {
   "cell_type": "code",
   "execution_count": null,
   "metadata": {
    "colab": {
     "base_uri": "https://localhost:8080/",
     "height": 668
    },
    "executionInfo": {
     "elapsed": 5430,
     "status": "ok",
     "timestamp": 1761193980919,
     "user": {
      "displayName": "THAI JAYANI KRISHNA B Tech 23",
      "userId": "13895106491461237308"
     },
     "user_tz": -330
    },
    "id": "jB1fLmXhQaQZ",
    "outputId": "659e9a7b-463f-405d-ac0e-801c5c43191c"
   },
   "outputs": [
    {
     "name": "stdout",
     "output_type": "stream",
     "text": [
      "Phase shift: 0.00 -> Counts: {'0': 1024}\n",
      "Phase shift: 0.70 -> Counts: {'0': 912, '1': 112}\n",
      "Phase shift: 1.40 -> Counts: {'1': 454, '0': 570}\n",
      "Phase shift: 2.09 -> Counts: {'0': 234, '1': 790}\n",
      "Phase shift: 2.79 -> Counts: {'0': 35, '1': 989}\n",
      "Phase shift: 3.49 -> Counts: {'0': 26, '1': 998}\n",
      "Phase shift: 4.19 -> Counts: {'0': 233, '1': 791}\n",
      "Phase shift: 4.89 -> Counts: {'0': 606, '1': 418}\n",
      "Phase shift: 5.59 -> Counts: {'1': 114, '0': 910}\n",
      "Phase shift: 6.28 -> Counts: {'0': 1024}\n"
     ]
    },
    {
     "data": {
      "image/png": "[encoded data removed]",
      "text/plain": [
       "<Figure size 640x480 with 1 Axes>"
      ]
     },
     "execution_count": 39,
     "metadata": {},
     "output_type": "execute_result"
    }
   ],
   "source": [
    "phase_shifts = np.linspace(0, 2 * np.pi, 10)\n",
    "results = []\n",
    "legend_labels = []\n",
    "\n",
    "for phase in phase_shifts:\n",
    "  qc = mach_zehnder_interferometer(phase_shift = phase)\n",
    "  compiled_circuit = transpile(qc, simulator)\n",
    "  job = simulator.run(compiled_circuit, shots = 1024)\n",
    "  counts = job.result().get_counts()\n",
    "  results.append(counts)\n",
    "  legend_labels.append(f\"Phase shift: {phase:.2f}\")\n",
    "  print(f\"Phase shift: {phase:.2f} -> Counts: {counts}\")\n",
    "\n",
    "  fig=plot_histogram(results,legend=legend_labels)\n",
    "fig"
   ]
  }
 ],
 "metadata": {
  "colab": {
   "authorship_tag": "ABX9TyN5tFIPn88ZFLRDlPayq5do",
   "provenance": []
  },
  "kernelspec": {
   "display_name": "Python 3",
   "name": "python3"
  },
  "language_info": {
   "name": "python"
  }
 },
 "nbformat": 4,
 "nbformat_minor": 0
}
